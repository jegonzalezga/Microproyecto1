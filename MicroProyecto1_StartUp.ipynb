{
  "nbformat": 4,
  "nbformat_minor": 0,
  "metadata": {
    "kernelspec": {
      "display_name": "Python 3",
      "language": "python",
      "name": "python3"
    },
    "language_info": {
      "codemirror_mode": {
        "name": "ipython",
        "version": 3
      },
      "file_extension": ".py",
      "mimetype": "text/x-python",
      "name": "python",
      "nbconvert_exporter": "python",
      "pygments_lexer": "ipython3",
      "version": "3.7.3"
    },
    "colab": {
      "name": "MicroProyecto1_StartUp.ipynb",
      "provenance": [],
      "collapsed_sections": []
    },
    "accelerator": "GPU"
  },
  "cells": [
    {
      "cell_type": "markdown",
      "metadata": {
        "id": "zZ0Twrtr1Jh5"
      },
      "source": [
        "## MIIA-4203 MODELOS AVANZADOS PARA ANÁLISIS DE DATOS II\n",
        "# Micro-Proyecto 1\n",
        "\n",
        "### Profesor: Camilo Franco (c.franco31@uniandes.edu.co)\n",
        "\n",
        "A continuación escriba los nombres de los integrantes del grupo.\n",
        "\n",
        "\n",
        "Nombres:\n",
        "\n",
        "Daniela Carolina Sanabria\n",
        "\n",
        "Juan Camilo Marín\n",
        "\n",
        "Jorge González\n",
        "\n",
        "### Introducción\n",
        "Una *start-up* agrícola quiere construir una aplicación online que conecte el campo\n",
        "con la ciudad de manera directa y sin intermediarios. De esta manera, los agricultores ponen a la disposición de la empresa sus distintos productos, y la start-up se encarga de atender las necesidades de demanda distribuyendo los productos hasta los clientes finales en la ciudad.\n",
        "\n",
        "Para optimizar la gestión logística y desarrollar esta labor de manera eficiente, los dueños de la *start-up* han visto la necesidad de diseñar e implementar un sistema de gestión y predicción que les permita planear con la debida anticipación la demanda esperada. Así podrán coordinar las actividades de producción, junto con los agricultores, y atender la demanda mientras se minimizan las pérdidas por unidades de producto no vendido o estropeado. \n",
        "\n",
        "Este es un reto altamente relevante para la sostenibilidad de la industria alimentaria, donde gran cantidad de las pérdidas se refieren a grupos alimenticios donde la frescura del producto es un importante criterio para el consumo. El desperdicio de los alimentos se relaciona con el sobre-pedido o el sobre-almacenamiento, lo cual puede a su vez ser consecuencia de dificultades en el pronóstico de la demanda. Este problema es aun más marcado a medida que uno sube en la cadena de producción y se aleja de los patrones de comportamiento del consumidor final. \n",
        "\n",
        "Por lo tanto, la start-up agrícola debe gestionar los inventarios de manera inteligente, disminuyendo la ventana de tiempo entre cosecha y consumo. Para ello, necesita desarrollar modelos de predicción de demanda que apoyen su operación, logrando la disponibilidad de los productos para atender a los clientes del día siguiente, minimizando los desperdicios de alimentos e identificando hábitos de consumo que le permita optimizar sus operaciones logísticas y de negocio.\n",
        "\n",
        "### Enunciado\n",
        "Por ello se le pide a usted, en calidad de consultor externo, desarrollar un modelo predictivo de demanda para los productos más relevantes con los que trabaja la start-up agrícola, obteniendo una predicción a nivel semanal (una semana adelante). Los datos los encuentra en el archivo DatosAgro.txt, donde se tiene la identificación del cliente, la fecha en que realizó el pedido, la magnitud del pedido (en unidades según lo especificado en el nombre del producto), su precio, y el código del producto agrícola que consta en el pedido."
      ]
    },
    {
      "cell_type": "markdown",
      "metadata": {
        "id": "6ykenfPT1Jh6"
      },
      "source": [
        "## **1. Exploración y Visualización**\n",
        "\n"
      ]
    },
    {
      "cell_type": "code",
      "metadata": {
        "id": "_tmmBomw1Jh7"
      },
      "source": [
        "import pandas as pd\n",
        "import numpy as np \n",
        "import matplotlib\n",
        "import matplotlib.pyplot as plt"
      ],
      "execution_count": null,
      "outputs": []
    },
    {
      "cell_type": "code",
      "metadata": {
        "id": "tUjQb6MF1ZOR",
        "outputId": "5882c26b-8a9f-48ab-f220-fa224a3d9517",
        "colab": {
          "base_uri": "https://localhost:8080/",
          "height": 34
        }
      },
      "source": [
        "from google.colab import drive\n",
        "drive.mount('/content/gdrive')\n"
      ],
      "execution_count": null,
      "outputs": [
        {
          "output_type": "stream",
          "text": [
            "Drive already mounted at /content/gdrive; to attempt to forcibly remount, call drive.mount(\"/content/gdrive\", force_remount=True).\n"
          ],
          "name": "stdout"
        }
      ]
    },
    {
      "cell_type": "code",
      "metadata": {
        "id": "8BGTfuwh1vSy",
        "outputId": "8576fbfd-b175-4d2c-8beb-f95a720bfc6a",
        "colab": {
          "base_uri": "https://localhost:8080/",
          "height": 134
        }
      },
      "source": [
        "import os\n",
        "os.listdir('/content/gdrive/My Drive/Colab Notebooks')"
      ],
      "execution_count": null,
      "outputs": [
        {
          "output_type": "execute_result",
          "data": {
            "text/plain": [
              "['1. Daniela Sanabria ps01_02_datapreparation_practice1.ipynb',\n",
              " 'Datasets',\n",
              " '2. Daniela Sanabria_TreePractice.ipynb',\n",
              " '2.2 Daniela Sanabria_DT_Scikit-learn_Practice.ipynb',\n",
              " '1.1. Daniela Sanabria ps01_02_datapreparation_practice1.ipynb',\n",
              " '0. Daniela Sanabria_PythonTutorial-Basics-Lists-exercises.ipynb',\n",
              " 'DatosAgro.txt']"
            ]
          },
          "metadata": {
            "tags": []
          },
          "execution_count": 3
        }
      ]
    },
    {
      "cell_type": "code",
      "metadata": {
        "id": "onVt8tA0170q"
      },
      "source": [
        "data = pd.read_csv('/content/gdrive/My Drive/Colab Notebooks/DatosAgro.txt', delimiter='\\t', encoding=\"utf8\")"
      ],
      "execution_count": null,
      "outputs": []
    },
    {
      "cell_type": "code",
      "metadata": {
        "id": "c2C4Ieh71JiB",
        "outputId": "1c0887e2-ed91-4ae3-b37d-82d60915f949",
        "colab": {
          "base_uri": "https://localhost:8080/",
          "height": 195
        }
      },
      "source": [
        "# Importemos los datos y visualizemos la serie de tiempo\n",
        "data = data.drop('Unnamed: 6', 1)\n",
        "data.head()"
      ],
      "execution_count": null,
      "outputs": [
        {
          "output_type": "execute_result",
          "data": {
            "text/html": [
              "<div>\n",
              "<style scoped>\n",
              "    .dataframe tbody tr th:only-of-type {\n",
              "        vertical-align: middle;\n",
              "    }\n",
              "\n",
              "    .dataframe tbody tr th {\n",
              "        vertical-align: top;\n",
              "    }\n",
              "\n",
              "    .dataframe thead th {\n",
              "        text-align: right;\n",
              "    }\n",
              "</style>\n",
              "<table border=\"1\" class=\"dataframe\">\n",
              "  <thead>\n",
              "    <tr style=\"text-align: right;\">\n",
              "      <th></th>\n",
              "      <th>Cliente</th>\n",
              "      <th>Fecha</th>\n",
              "      <th>Pedido</th>\n",
              "      <th>Precio</th>\n",
              "      <th>Producto</th>\n",
              "      <th>Nombre_producto</th>\n",
              "    </tr>\n",
              "  </thead>\n",
              "  <tbody>\n",
              "    <tr>\n",
              "      <th>0</th>\n",
              "      <td>Cliente26</td>\n",
              "      <td>18/09/2017</td>\n",
              "      <td>20</td>\n",
              "      <td>700</td>\n",
              "      <td>VER0049</td>\n",
              "      <td>Yerbabuena / 100 gramos</td>\n",
              "    </tr>\n",
              "    <tr>\n",
              "      <th>1</th>\n",
              "      <td>Cliente26</td>\n",
              "      <td>18/09/2017</td>\n",
              "      <td>10</td>\n",
              "      <td>1200</td>\n",
              "      <td>FRU0024</td>\n",
              "      <td>Limón Tahití / Libra</td>\n",
              "    </tr>\n",
              "    <tr>\n",
              "      <th>2</th>\n",
              "      <td>Cliente26</td>\n",
              "      <td>18/09/2017</td>\n",
              "      <td>4</td>\n",
              "      <td>1600</td>\n",
              "      <td>VER0041</td>\n",
              "      <td>Puerro / Libra</td>\n",
              "    </tr>\n",
              "    <tr>\n",
              "      <th>3</th>\n",
              "      <td>Cliente26</td>\n",
              "      <td>18/09/2017</td>\n",
              "      <td>10</td>\n",
              "      <td>1500</td>\n",
              "      <td>VER0038</td>\n",
              "      <td>Pimentón Rojo / Libra</td>\n",
              "    </tr>\n",
              "    <tr>\n",
              "      <th>4</th>\n",
              "      <td>Cliente26</td>\n",
              "      <td>18/09/2017</td>\n",
              "      <td>8</td>\n",
              "      <td>1100</td>\n",
              "      <td>VER0010</td>\n",
              "      <td>Zucchini Verde / Libra</td>\n",
              "    </tr>\n",
              "  </tbody>\n",
              "</table>\n",
              "</div>"
            ],
            "text/plain": [
              "     Cliente       Fecha  Pedido  Precio Producto          Nombre_producto\n",
              "0  Cliente26  18/09/2017      20     700  VER0049  Yerbabuena / 100 gramos\n",
              "1  Cliente26  18/09/2017      10    1200  FRU0024     Limón Tahití / Libra\n",
              "2  Cliente26  18/09/2017       4    1600  VER0041           Puerro / Libra\n",
              "3  Cliente26  18/09/2017      10    1500  VER0038    Pimentón Rojo / Libra\n",
              "4  Cliente26  18/09/2017       8    1100  VER0010   Zucchini Verde / Libra"
            ]
          },
          "metadata": {
            "tags": []
          },
          "execution_count": 5
        }
      ]
    },
    {
      "cell_type": "markdown",
      "metadata": {
        "id": "Qn0t84ZA1JiH"
      },
      "source": [
        "Veamos los clientes con mayor participación en la demanda:\n",
        "\n"
      ]
    },
    {
      "cell_type": "code",
      "metadata": {
        "id": "RJ1dZGap1JiH",
        "outputId": "053db6bc-8e82-41ce-f7c3-f2d685814381",
        "colab": {
          "base_uri": "https://localhost:8080/",
          "height": 402
        }
      },
      "source": [
        "data"
      ],
      "execution_count": null,
      "outputs": [
        {
          "output_type": "execute_result",
          "data": {
            "text/html": [
              "<div>\n",
              "<style scoped>\n",
              "    .dataframe tbody tr th:only-of-type {\n",
              "        vertical-align: middle;\n",
              "    }\n",
              "\n",
              "    .dataframe tbody tr th {\n",
              "        vertical-align: top;\n",
              "    }\n",
              "\n",
              "    .dataframe thead th {\n",
              "        text-align: right;\n",
              "    }\n",
              "</style>\n",
              "<table border=\"1\" class=\"dataframe\">\n",
              "  <thead>\n",
              "    <tr style=\"text-align: right;\">\n",
              "      <th></th>\n",
              "      <th>Cliente</th>\n",
              "      <th>Fecha</th>\n",
              "      <th>Pedido</th>\n",
              "      <th>Precio</th>\n",
              "      <th>Producto</th>\n",
              "      <th>Nombre_producto</th>\n",
              "    </tr>\n",
              "  </thead>\n",
              "  <tbody>\n",
              "    <tr>\n",
              "      <th>0</th>\n",
              "      <td>Cliente26</td>\n",
              "      <td>18/09/2017</td>\n",
              "      <td>20</td>\n",
              "      <td>700</td>\n",
              "      <td>VER0049</td>\n",
              "      <td>Yerbabuena / 100 gramos</td>\n",
              "    </tr>\n",
              "    <tr>\n",
              "      <th>1</th>\n",
              "      <td>Cliente26</td>\n",
              "      <td>18/09/2017</td>\n",
              "      <td>10</td>\n",
              "      <td>1200</td>\n",
              "      <td>FRU0024</td>\n",
              "      <td>Limón Tahití / Libra</td>\n",
              "    </tr>\n",
              "    <tr>\n",
              "      <th>2</th>\n",
              "      <td>Cliente26</td>\n",
              "      <td>18/09/2017</td>\n",
              "      <td>4</td>\n",
              "      <td>1600</td>\n",
              "      <td>VER0041</td>\n",
              "      <td>Puerro / Libra</td>\n",
              "    </tr>\n",
              "    <tr>\n",
              "      <th>3</th>\n",
              "      <td>Cliente26</td>\n",
              "      <td>18/09/2017</td>\n",
              "      <td>10</td>\n",
              "      <td>1500</td>\n",
              "      <td>VER0038</td>\n",
              "      <td>Pimentón Rojo / Libra</td>\n",
              "    </tr>\n",
              "    <tr>\n",
              "      <th>4</th>\n",
              "      <td>Cliente26</td>\n",
              "      <td>18/09/2017</td>\n",
              "      <td>8</td>\n",
              "      <td>1100</td>\n",
              "      <td>VER0010</td>\n",
              "      <td>Zucchini Verde / Libra</td>\n",
              "    </tr>\n",
              "    <tr>\n",
              "      <th>...</th>\n",
              "      <td>...</td>\n",
              "      <td>...</td>\n",
              "      <td>...</td>\n",
              "      <td>...</td>\n",
              "      <td>...</td>\n",
              "      <td>...</td>\n",
              "    </tr>\n",
              "    <tr>\n",
              "      <th>4707</th>\n",
              "      <td>Cliente30</td>\n",
              "      <td>16/11/2016</td>\n",
              "      <td>10</td>\n",
              "      <td>3500</td>\n",
              "      <td>FRU0006</td>\n",
              "      <td>Ají Rocoto / Libra</td>\n",
              "    </tr>\n",
              "    <tr>\n",
              "      <th>4708</th>\n",
              "      <td>Cliente16</td>\n",
              "      <td>03/11/2016</td>\n",
              "      <td>2</td>\n",
              "      <td>6000</td>\n",
              "      <td>FRU0019</td>\n",
              "      <td>Guayaba / Libra</td>\n",
              "    </tr>\n",
              "    <tr>\n",
              "      <th>4709</th>\n",
              "      <td>Cliente16</td>\n",
              "      <td>03/11/2016</td>\n",
              "      <td>3</td>\n",
              "      <td>3000</td>\n",
              "      <td>GRA0011</td>\n",
              "      <td>Lenteja</td>\n",
              "    </tr>\n",
              "    <tr>\n",
              "      <th>4710</th>\n",
              "      <td>Cliente16</td>\n",
              "      <td>03/11/2016</td>\n",
              "      <td>10</td>\n",
              "      <td>2500</td>\n",
              "      <td>TUB0015</td>\n",
              "      <td>Arracacha</td>\n",
              "    </tr>\n",
              "    <tr>\n",
              "      <th>4711</th>\n",
              "      <td>Cliente16</td>\n",
              "      <td>03/11/2016</td>\n",
              "      <td>1</td>\n",
              "      <td>2500</td>\n",
              "      <td>VER0112</td>\n",
              "      <td>Toronjil</td>\n",
              "    </tr>\n",
              "  </tbody>\n",
              "</table>\n",
              "<p>4712 rows × 6 columns</p>\n",
              "</div>"
            ],
            "text/plain": [
              "        Cliente       Fecha  Pedido  Precio Producto          Nombre_producto\n",
              "0     Cliente26  18/09/2017      20     700  VER0049  Yerbabuena / 100 gramos\n",
              "1     Cliente26  18/09/2017      10    1200  FRU0024     Limón Tahití / Libra\n",
              "2     Cliente26  18/09/2017       4    1600  VER0041           Puerro / Libra\n",
              "3     Cliente26  18/09/2017      10    1500  VER0038    Pimentón Rojo / Libra\n",
              "4     Cliente26  18/09/2017       8    1100  VER0010   Zucchini Verde / Libra\n",
              "...         ...         ...     ...     ...      ...                      ...\n",
              "4707  Cliente30  16/11/2016      10    3500  FRU0006       Ají Rocoto / Libra\n",
              "4708  Cliente16  03/11/2016       2    6000  FRU0019          Guayaba / Libra\n",
              "4709  Cliente16  03/11/2016       3    3000  GRA0011                  Lenteja\n",
              "4710  Cliente16  03/11/2016      10    2500  TUB0015                Arracacha\n",
              "4711  Cliente16  03/11/2016       1    2500  VER0112                 Toronjil\n",
              "\n",
              "[4712 rows x 6 columns]"
            ]
          },
          "metadata": {
            "tags": []
          },
          "execution_count": 8
        }
      ]
    },
    {
      "cell_type": "code",
      "metadata": {
        "id": "qMTG-2Fr1JiL",
        "outputId": "b73931d6-65e3-44f3-9eb4-f80c03c12c65",
        "colab": {
          "base_uri": "https://localhost:8080/",
          "height": 591
        }
      },
      "source": [
        "cliente = pd.DataFrame(data[data['Pedido'] > 10].groupby(data[\"Cliente\"]).sum())\n",
        "cliente2 = cliente[cliente['Pedido']>50]\n",
        "cliente3 = cliente2.sort_values(\"Pedido\", ascending= False)\n",
        "cliente3.plot.pie(y='Pedido', figsize=(10, 10), legend=False, autopct='%1.1f%%')\n",
        "plt.title(\"Cantidad de productos adquiridos por cada cliente\")\n",
        "plt.show()"
      ],
      "execution_count": null,
      "outputs": [
        {
          "output_type": "display_data",
          "data": {
            "image/png": "[encoded data removed]",
            "text/plain": [
              "<Figure size 720x720 with 1 Axes>"
            ]
          },
          "metadata": {
            "tags": []
          }
        }
      ]
    },
    {
      "cell_type": "markdown",
      "metadata": {
        "id": "Nlldztoc1JiR"
      },
      "source": [
        "Por su parte, los productos con más volumen de pedido son los siguientes:\n"
      ]
    },
    {
      "cell_type": "code",
      "metadata": {
        "id": "sSe68L5I1JiX",
        "outputId": "e35fe0ee-2a9e-4eb9-90fc-23c77e53fae1",
        "colab": {
          "base_uri": "https://localhost:8080/",
          "height": 775
        }
      },
      "source": [
        "productos = pd.DataFrame(data[\"Pedido\"].groupby(data[\"Nombre_producto\"]).sum())\n",
        "productos2 = productos[productos['Pedido']>140]\n",
        "productos3 = productos2.sort_values(\"Pedido\", ascending= False)\n",
        "productos3.plot.pie(y='Pedido', figsize=(10, 10), legend=False, autopct='%1.1f%%', rotatelabels=True)\n",
        "plt.title(\"Cantidad de productos adquiridos por producto\", pad=100)\n",
        "plt.show()"
      ],
      "execution_count": null,
      "outputs": [
        {
          "output_type": "display_data",
          "data": {
            "image/png": "[encoded data removed]",
            "text/plain": [
              "<Figure size 720x720 with 1 Axes>"
            ]
          },
          "metadata": {
            "tags": []
          }
        }
      ]
    },
    {
      "cell_type": "code",
      "metadata": {
        "id": "1Qjd-VY91JiS",
        "outputId": "733cf84f-2e1a-4499-ebef-b72fc35b90a4",
        "colab": {
          "base_uri": "https://localhost:8080/",
          "height": 1000
        }
      },
      "source": [
        "productos2"
      ],
      "execution_count": null,
      "outputs": [
        {
          "output_type": "execute_result",
          "data": {
            "text/html": [
              "<div>\n",
              "<style scoped>\n",
              "    .dataframe tbody tr th:only-of-type {\n",
              "        vertical-align: middle;\n",
              "    }\n",
              "\n",
              "    .dataframe tbody tr th {\n",
              "        vertical-align: top;\n",
              "    }\n",
              "\n",
              "    .dataframe thead th {\n",
              "        text-align: right;\n",
              "    }\n",
              "</style>\n",
              "<table border=\"1\" class=\"dataframe\">\n",
              "  <thead>\n",
              "    <tr style=\"text-align: right;\">\n",
              "      <th></th>\n",
              "      <th>Pedido</th>\n",
              "    </tr>\n",
              "    <tr>\n",
              "      <th>Nombre_producto</th>\n",
              "      <th></th>\n",
              "    </tr>\n",
              "  </thead>\n",
              "  <tbody>\n",
              "    <tr>\n",
              "      <th>Aguacate Haas / Libra</th>\n",
              "      <td>300</td>\n",
              "    </tr>\n",
              "    <tr>\n",
              "      <th>Aguacate Papelillo / Libra</th>\n",
              "      <td>229</td>\n",
              "    </tr>\n",
              "    <tr>\n",
              "      <th>Ahuyama / Libra</th>\n",
              "      <td>271</td>\n",
              "    </tr>\n",
              "    <tr>\n",
              "      <th>Banano Criollo / Libra</th>\n",
              "      <td>518</td>\n",
              "    </tr>\n",
              "    <tr>\n",
              "      <th>Berenjena / Libra</th>\n",
              "      <td>670</td>\n",
              "    </tr>\n",
              "    <tr>\n",
              "      <th>Brócoli / Libra</th>\n",
              "      <td>158</td>\n",
              "    </tr>\n",
              "    <tr>\n",
              "      <th>Cebolla Cabezona Blanca / Libra</th>\n",
              "      <td>874</td>\n",
              "    </tr>\n",
              "    <tr>\n",
              "      <th>Cebolla Cabezona Roja / Libra</th>\n",
              "      <td>858</td>\n",
              "    </tr>\n",
              "    <tr>\n",
              "      <th>Cebolla Larga / Libra</th>\n",
              "      <td>198</td>\n",
              "    </tr>\n",
              "    <tr>\n",
              "      <th>Champiñón / Libra</th>\n",
              "      <td>547</td>\n",
              "    </tr>\n",
              "    <tr>\n",
              "      <th>Cilantro / 100 gramos</th>\n",
              "      <td>220</td>\n",
              "    </tr>\n",
              "    <tr>\n",
              "      <th>Fresa Pareja / Libra</th>\n",
              "      <td>255</td>\n",
              "    </tr>\n",
              "    <tr>\n",
              "      <th>Lechuga Crespa / Unidad</th>\n",
              "      <td>1094</td>\n",
              "    </tr>\n",
              "    <tr>\n",
              "      <th>Limón Tahití / Libra</th>\n",
              "      <td>802</td>\n",
              "    </tr>\n",
              "    <tr>\n",
              "      <th>Mango Tommy Atkins / Libra</th>\n",
              "      <td>178</td>\n",
              "    </tr>\n",
              "    <tr>\n",
              "      <th>Manzana Roja / Unidad</th>\n",
              "      <td>160</td>\n",
              "    </tr>\n",
              "    <tr>\n",
              "      <th>Manzana Verde / Unidad</th>\n",
              "      <td>148</td>\n",
              "    </tr>\n",
              "    <tr>\n",
              "      <th>Mazorca Desgranada / Libra</th>\n",
              "      <td>149</td>\n",
              "    </tr>\n",
              "    <tr>\n",
              "      <th>Mora Castilla / Libra</th>\n",
              "      <td>170</td>\n",
              "    </tr>\n",
              "    <tr>\n",
              "      <th>Naranja Sweety / Libra</th>\n",
              "      <td>270</td>\n",
              "    </tr>\n",
              "    <tr>\n",
              "      <th>Papa Criolla / Libra</th>\n",
              "      <td>197</td>\n",
              "    </tr>\n",
              "    <tr>\n",
              "      <th>Papa Pastusa / Libra</th>\n",
              "      <td>145</td>\n",
              "    </tr>\n",
              "    <tr>\n",
              "      <th>Papa Sabanera / Libra</th>\n",
              "      <td>160</td>\n",
              "    </tr>\n",
              "    <tr>\n",
              "      <th>Pepino Cohombro / Libra</th>\n",
              "      <td>1360</td>\n",
              "    </tr>\n",
              "    <tr>\n",
              "      <th>Perejil Crespo / 100 gramos</th>\n",
              "      <td>160</td>\n",
              "    </tr>\n",
              "    <tr>\n",
              "      <th>Perejil Liso / 100 gramos</th>\n",
              "      <td>400</td>\n",
              "    </tr>\n",
              "    <tr>\n",
              "      <th>Pimentón Rojo / Libra</th>\n",
              "      <td>1324</td>\n",
              "    </tr>\n",
              "    <tr>\n",
              "      <th>Plátano Maduro / Libra</th>\n",
              "      <td>1064</td>\n",
              "    </tr>\n",
              "    <tr>\n",
              "      <th>Rúgula / Libra</th>\n",
              "      <td>188</td>\n",
              "    </tr>\n",
              "    <tr>\n",
              "      <th>Tomate Chonto / Libra</th>\n",
              "      <td>4000</td>\n",
              "    </tr>\n",
              "    <tr>\n",
              "      <th>Tomate Larga Vida / Libra</th>\n",
              "      <td>471</td>\n",
              "    </tr>\n",
              "    <tr>\n",
              "      <th>Yerbabuena / 100 gramos</th>\n",
              "      <td>221</td>\n",
              "    </tr>\n",
              "    <tr>\n",
              "      <th>Zanahoria / Libra</th>\n",
              "      <td>961</td>\n",
              "    </tr>\n",
              "    <tr>\n",
              "      <th>Zucchini Verde / Libra</th>\n",
              "      <td>1211</td>\n",
              "    </tr>\n",
              "  </tbody>\n",
              "</table>\n",
              "</div>"
            ],
            "text/plain": [
              "                                 Pedido\n",
              "Nombre_producto                        \n",
              "Aguacate Haas / Libra               300\n",
              "Aguacate Papelillo / Libra          229\n",
              "Ahuyama / Libra                     271\n",
              "Banano Criollo / Libra              518\n",
              "Berenjena / Libra                   670\n",
              "Brócoli / Libra                     158\n",
              "Cebolla Cabezona Blanca / Libra     874\n",
              "Cebolla Cabezona Roja / Libra       858\n",
              "Cebolla Larga / Libra               198\n",
              "Champiñón / Libra                   547\n",
              "Cilantro / 100 gramos               220\n",
              "Fresa Pareja / Libra                255\n",
              "Lechuga Crespa / Unidad            1094\n",
              "Limón Tahití / Libra                802\n",
              "Mango Tommy Atkins / Libra          178\n",
              "Manzana Roja / Unidad               160\n",
              "Manzana Verde / Unidad              148\n",
              "Mazorca Desgranada / Libra          149\n",
              "Mora Castilla / Libra               170\n",
              "Naranja Sweety / Libra              270\n",
              "Papa Criolla / Libra                197\n",
              "Papa Pastusa / Libra                145\n",
              "Papa Sabanera / Libra               160\n",
              "Pepino Cohombro / Libra            1360\n",
              "Perejil Crespo / 100 gramos         160\n",
              "Perejil Liso / 100 gramos           400\n",
              "Pimentón Rojo / Libra              1324\n",
              "Plátano Maduro / Libra             1064\n",
              "Rúgula / Libra                      188\n",
              "Tomate Chonto / Libra              4000\n",
              "Tomate Larga Vida / Libra           471\n",
              "Yerbabuena / 100 gramos             221\n",
              "Zanahoria / Libra                   961\n",
              "Zucchini Verde / Libra             1211"
            ]
          },
          "metadata": {
            "tags": []
          },
          "execution_count": 9
        }
      ]
    },
    {
      "cell_type": "markdown",
      "metadata": {
        "id": "NhzHROr31Jib"
      },
      "source": [
        "A continuación implemente la metodología propuesta para construir su modelo:"
      ]
    },
    {
      "cell_type": "markdown",
      "metadata": {
        "id": "jVrFdW8BDed1"
      },
      "source": [
        "\n",
        "\n",
        "## **2. Preprocesamiento**\n",
        "\n",
        "Se requiere convertir la información disponible en un DataFrame de la demanda, calculada como el número de unidades de pedido de cada producto por su tiempo, como serie de tiempo semanal. \n",
        "\n"
      ]
    },
    {
      "cell_type": "code",
      "metadata": {
        "id": "kXQ_ML1K1Jib",
        "outputId": "598c0f4b-cf5e-4f03-9951-0559f20ee172",
        "colab": {
          "base_uri": "https://localhost:8080/",
          "height": 134
        }
      },
      "source": [
        "#Se encuentran solo cuatro valores perdidos, en el nombre del cliente\n",
        "data.isnull().sum()"
      ],
      "execution_count": null,
      "outputs": [
        {
          "output_type": "execute_result",
          "data": {
            "text/plain": [
              "Cliente            4\n",
              "Fecha              0\n",
              "Pedido             0\n",
              "Precio             0\n",
              "Producto           0\n",
              "Nombre_producto    0\n",
              "dtype: int64"
            ]
          },
          "metadata": {
            "tags": []
          },
          "execution_count": 10
        }
      ]
    },
    {
      "cell_type": "code",
      "metadata": {
        "id": "PLtVk5Kq3-bA",
        "outputId": "17b691dc-eecd-462d-950c-c7e656cbf227",
        "colab": {
          "base_uri": "https://localhost:8080/",
          "height": 134
        }
      },
      "source": [
        "#Los tipos de las variables indican que es necesario ajustar el formato de la fecha\n",
        "data.dtypes"
      ],
      "execution_count": null,
      "outputs": [
        {
          "output_type": "execute_result",
          "data": {
            "text/plain": [
              "Cliente            object\n",
              "Fecha              object\n",
              "Pedido              int64\n",
              "Precio              int64\n",
              "Producto           object\n",
              "Nombre_producto    object\n",
              "dtype: object"
            ]
          },
          "metadata": {
            "tags": []
          },
          "execution_count": 11
        }
      ]
    },
    {
      "cell_type": "code",
      "metadata": {
        "id": "ce1sBNW-4HJE"
      },
      "source": [
        "#Se ajustan los datos de la fecha\n",
        "data['Fecha2']=pd.to_datetime(data['Fecha'], dayfirst=True)"
      ],
      "execution_count": null,
      "outputs": []
    },
    {
      "cell_type": "code",
      "metadata": {
        "id": "nn0HwbNX3sjz"
      },
      "source": [
        "#Se calcula la variable demanda, como el volumen de pedido por el precio. Esta será la variable dependiente del modelo.\n",
        "data['Demanda']=data['Pedido']*data['Precio']"
      ],
      "execution_count": null,
      "outputs": []
    },
    {
      "cell_type": "code",
      "metadata": {
        "id": "ads_P9TS6H61"
      },
      "source": [
        "#Se calcula la semana y el año de la fecha y se guardan estos datos en una nueva variable\n",
        "#data['Semana']=data['Fecha'].dt.isocalendar().week.astype(str)+data['Fecha'].dt.year.astype(str)\n",
        "data['Semana']=data['Fecha2'].dt.isocalendar().week\n",
        "data['Año']=data['Fecha2'].dt.year\n"
      ],
      "execution_count": null,
      "outputs": []
    },
    {
      "cell_type": "code",
      "metadata": {
        "id": "Z0jtHnTd62LE"
      },
      "source": [
        "#Se agrupan los datos por año, por semana y por nombre del producto y se ajustan de tal forma que los productos queden \n",
        "#en las columnas y la demanda esté en los valores de la tabla. De esta forma, tenemos un Data Frame en formato de serie de \n",
        "#tiempo.\n",
        "df=data.groupby(['Año', 'Semana','Nombre_producto'])['Demanda'].sum().unstack(level=2)"
      ],
      "execution_count": null,
      "outputs": []
    },
    {
      "cell_type": "code",
      "metadata": {
        "id": "aehwyVDsCDr4",
        "outputId": "d2bdba09-4196-458d-dc20-5b9452d04f28",
        "colab": {
          "base_uri": "https://localhost:8080/",
          "height": 34
        }
      },
      "source": [
        "#El número total de semanas incluidas es de 46\n",
        "df.shape[0]"
      ],
      "execution_count": null,
      "outputs": [
        {
          "output_type": "execute_result",
          "data": {
            "text/plain": [
              "46"
            ]
          },
          "metadata": {
            "tags": []
          },
          "execution_count": 16
        }
      ]
    },
    {
      "cell_type": "code",
      "metadata": {
        "id": "OhHpW_BfFSNT",
        "outputId": "0c140bc5-ef89-4c58-8722-20d6163a3805",
        "colab": {
          "base_uri": "https://localhost:8080/",
          "height": 341
        }
      },
      "source": [
        "#La estructura de los datos es la siguiente\n",
        "df.head(5)"
      ],
      "execution_count": null,
      "outputs": [
        {
          "output_type": "execute_result",
          "data": {
            "text/html": [
              "<div>\n",
              "<style scoped>\n",
              "    .dataframe tbody tr th:only-of-type {\n",
              "        vertical-align: middle;\n",
              "    }\n",
              "\n",
              "    .dataframe tbody tr th {\n",
              "        vertical-align: top;\n",
              "    }\n",
              "\n",
              "    .dataframe thead th {\n",
              "        text-align: right;\n",
              "    }\n",
              "</style>\n",
              "<table border=\"1\" class=\"dataframe\">\n",
              "  <thead>\n",
              "    <tr style=\"text-align: right;\">\n",
              "      <th></th>\n",
              "      <th>Nombre_producto</th>\n",
              "      <th>Acelga / Libra</th>\n",
              "      <th>Agraz / Libra</th>\n",
              "      <th>Aguacate Haas / Libra</th>\n",
              "      <th>Aguacate Papelillo / Libra</th>\n",
              "      <th>Ahuyama / Libra</th>\n",
              "      <th>Ajo Importado / Libra</th>\n",
              "      <th>Ajo Nacional / Libra</th>\n",
              "      <th>Ají Chirca</th>\n",
              "      <th>Ají Jalapeño / Libra</th>\n",
              "      <th>Ají Rocoto / Libra</th>\n",
              "      <th>Albahaca / 100 gramos</th>\n",
              "      <th>Alcachofa / Libra</th>\n",
              "      <th>Apio / Libra</th>\n",
              "      <th>Arracacha</th>\n",
              "      <th>Arracacha / Libra</th>\n",
              "      <th>Arveja Desgranada / Libra</th>\n",
              "      <th>Banano Bocadillo / Libra</th>\n",
              "      <th>Banano Criollo / Libra</th>\n",
              "      <th>Berenjena / Libra</th>\n",
              "      <th>Berro / 100 gramos</th>\n",
              "      <th>Breva / Libra</th>\n",
              "      <th>Brócoli / Libra</th>\n",
              "      <th>Calabacín / Libra</th>\n",
              "      <th>Carambolo / Libra</th>\n",
              "      <th>Cebolla Cabezona Blanca / Libra</th>\n",
              "      <th>Cebolla Cabezona Roja / Libra</th>\n",
              "      <th>Cebolla Larga / Libra</th>\n",
              "      <th>Cebollín / 100 gramos</th>\n",
              "      <th>Champiñón / Libra</th>\n",
              "      <th>Chontaduro</th>\n",
              "      <th>Cilantro / 100 gramos</th>\n",
              "      <th>Ciruela / Libra</th>\n",
              "      <th>Coliflor / Libra</th>\n",
              "      <th>Cubio / Libra</th>\n",
              "      <th>Curuba / Libra</th>\n",
              "      <th>Durazno / Libra</th>\n",
              "      <th>Esparrago / Libra</th>\n",
              "      <th>Espinaca / Libra</th>\n",
              "      <th>Feijoa / Libra</th>\n",
              "      <th>Fresa Grande / Libra</th>\n",
              "      <th>...</th>\n",
              "      <th>Papaya Melona / Unidad</th>\n",
              "      <th>Patilla / Unidad</th>\n",
              "      <th>Patilla Baby / Unidad</th>\n",
              "      <th>Pepino Cohombro / Libra</th>\n",
              "      <th>Pepino Europeo / Libra</th>\n",
              "      <th>Pera Importada / Unidad</th>\n",
              "      <th>Pera Nacional / Libra</th>\n",
              "      <th>Perejil Crespo / 100 gramos</th>\n",
              "      <th>Perejil Liso / 100 gramos</th>\n",
              "      <th>Pimentón Rojo / Libra</th>\n",
              "      <th>Pimentón Verde / Libra</th>\n",
              "      <th>Pitaya / Libra</th>\n",
              "      <th>Piña Cayena Lisa / Unidad</th>\n",
              "      <th>Piña Golden Sweet / Unidad</th>\n",
              "      <th>Plátano Maduro / Libra</th>\n",
              "      <th>Plátano Verde / Libra</th>\n",
              "      <th>Puerro / Libra</th>\n",
              "      <th>Remolacha / Libra</th>\n",
              "      <th>Repollo Blanco / Unidad</th>\n",
              "      <th>Repollo Morado / Unidad</th>\n",
              "      <th>Romero / 100 gramos</th>\n",
              "      <th>Rábano Rojo / Libra</th>\n",
              "      <th>Rúgula / Libra</th>\n",
              "      <th>Tomate Cherry / Libra</th>\n",
              "      <th>Tomate Chonto / Libra</th>\n",
              "      <th>Tomate Larga Vida / Libra</th>\n",
              "      <th>Tomate de Árbol / Libra</th>\n",
              "      <th>Tomillo / 100 gramos</th>\n",
              "      <th>Toronjil</th>\n",
              "      <th>Uchuva / Libra</th>\n",
              "      <th>Uva / Libra</th>\n",
              "      <th>Uva Isabella / Libra</th>\n",
              "      <th>Yacón / Libra</th>\n",
              "      <th>Yerbabuena / 100 gramos</th>\n",
              "      <th>Yuca / Libra</th>\n",
              "      <th>Zanahoria / Libra</th>\n",
              "      <th>Zanahoria Baby / Libra</th>\n",
              "      <th>Zapote</th>\n",
              "      <th>Zucchini Amarillo / Libra</th>\n",
              "      <th>Zucchini Verde / Libra</th>\n",
              "    </tr>\n",
              "    <tr>\n",
              "      <th>Año</th>\n",
              "      <th>Semana</th>\n",
              "      <th></th>\n",
              "      <th></th>\n",
              "      <th></th>\n",
              "      <th></th>\n",
              "      <th></th>\n",
              "      <th></th>\n",
              "      <th></th>\n",
              "      <th></th>\n",
              "      <th></th>\n",
              "      <th></th>\n",
              "      <th></th>\n",
              "      <th></th>\n",
              "      <th></th>\n",
              "      <th></th>\n",
              "      <th></th>\n",
              "      <th></th>\n",
              "      <th></th>\n",
              "      <th></th>\n",
              "      <th></th>\n",
              "      <th></th>\n",
              "      <th></th>\n",
              "      <th></th>\n",
              "      <th></th>\n",
              "      <th></th>\n",
              "      <th></th>\n",
              "      <th></th>\n",
              "      <th></th>\n",
              "      <th></th>\n",
              "      <th></th>\n",
              "      <th></th>\n",
              "      <th></th>\n",
              "      <th></th>\n",
              "      <th></th>\n",
              "      <th></th>\n",
              "      <th></th>\n",
              "      <th></th>\n",
              "      <th></th>\n",
              "      <th></th>\n",
              "      <th></th>\n",
              "      <th></th>\n",
              "      <th></th>\n",
              "      <th></th>\n",
              "      <th></th>\n",
              "      <th></th>\n",
              "      <th></th>\n",
              "      <th></th>\n",
              "      <th></th>\n",
              "      <th></th>\n",
              "      <th></th>\n",
              "      <th></th>\n",
              "      <th></th>\n",
              "      <th></th>\n",
              "      <th></th>\n",
              "      <th></th>\n",
              "      <th></th>\n",
              "      <th></th>\n",
              "      <th></th>\n",
              "      <th></th>\n",
              "      <th></th>\n",
              "      <th></th>\n",
              "      <th></th>\n",
              "      <th></th>\n",
              "      <th></th>\n",
              "      <th></th>\n",
              "      <th></th>\n",
              "      <th></th>\n",
              "      <th></th>\n",
              "      <th></th>\n",
              "      <th></th>\n",
              "      <th></th>\n",
              "      <th></th>\n",
              "      <th></th>\n",
              "      <th></th>\n",
              "      <th></th>\n",
              "      <th></th>\n",
              "      <th></th>\n",
              "      <th></th>\n",
              "      <th></th>\n",
              "      <th></th>\n",
              "      <th></th>\n",
              "      <th></th>\n",
              "    </tr>\n",
              "  </thead>\n",
              "  <tbody>\n",
              "    <tr>\n",
              "      <th rowspan=\"5\" valign=\"top\">2016</th>\n",
              "      <th>44</th>\n",
              "      <td>NaN</td>\n",
              "      <td>NaN</td>\n",
              "      <td>NaN</td>\n",
              "      <td>NaN</td>\n",
              "      <td>NaN</td>\n",
              "      <td>NaN</td>\n",
              "      <td>NaN</td>\n",
              "      <td>NaN</td>\n",
              "      <td>NaN</td>\n",
              "      <td>NaN</td>\n",
              "      <td>NaN</td>\n",
              "      <td>NaN</td>\n",
              "      <td>NaN</td>\n",
              "      <td>25000.0</td>\n",
              "      <td>NaN</td>\n",
              "      <td>NaN</td>\n",
              "      <td>NaN</td>\n",
              "      <td>NaN</td>\n",
              "      <td>NaN</td>\n",
              "      <td>NaN</td>\n",
              "      <td>NaN</td>\n",
              "      <td>NaN</td>\n",
              "      <td>NaN</td>\n",
              "      <td>NaN</td>\n",
              "      <td>NaN</td>\n",
              "      <td>NaN</td>\n",
              "      <td>NaN</td>\n",
              "      <td>NaN</td>\n",
              "      <td>NaN</td>\n",
              "      <td>NaN</td>\n",
              "      <td>NaN</td>\n",
              "      <td>NaN</td>\n",
              "      <td>NaN</td>\n",
              "      <td>NaN</td>\n",
              "      <td>NaN</td>\n",
              "      <td>NaN</td>\n",
              "      <td>NaN</td>\n",
              "      <td>NaN</td>\n",
              "      <td>NaN</td>\n",
              "      <td>NaN</td>\n",
              "      <td>...</td>\n",
              "      <td>NaN</td>\n",
              "      <td>NaN</td>\n",
              "      <td>NaN</td>\n",
              "      <td>NaN</td>\n",
              "      <td>NaN</td>\n",
              "      <td>NaN</td>\n",
              "      <td>NaN</td>\n",
              "      <td>NaN</td>\n",
              "      <td>NaN</td>\n",
              "      <td>NaN</td>\n",
              "      <td>NaN</td>\n",
              "      <td>NaN</td>\n",
              "      <td>NaN</td>\n",
              "      <td>NaN</td>\n",
              "      <td>NaN</td>\n",
              "      <td>NaN</td>\n",
              "      <td>NaN</td>\n",
              "      <td>NaN</td>\n",
              "      <td>NaN</td>\n",
              "      <td>NaN</td>\n",
              "      <td>NaN</td>\n",
              "      <td>NaN</td>\n",
              "      <td>NaN</td>\n",
              "      <td>NaN</td>\n",
              "      <td>NaN</td>\n",
              "      <td>NaN</td>\n",
              "      <td>NaN</td>\n",
              "      <td>NaN</td>\n",
              "      <td>2500.0</td>\n",
              "      <td>NaN</td>\n",
              "      <td>NaN</td>\n",
              "      <td>NaN</td>\n",
              "      <td>NaN</td>\n",
              "      <td>NaN</td>\n",
              "      <td>NaN</td>\n",
              "      <td>NaN</td>\n",
              "      <td>NaN</td>\n",
              "      <td>NaN</td>\n",
              "      <td>NaN</td>\n",
              "      <td>NaN</td>\n",
              "    </tr>\n",
              "    <tr>\n",
              "      <th>46</th>\n",
              "      <td>NaN</td>\n",
              "      <td>68000.0</td>\n",
              "      <td>190800.0</td>\n",
              "      <td>NaN</td>\n",
              "      <td>5250.0</td>\n",
              "      <td>NaN</td>\n",
              "      <td>NaN</td>\n",
              "      <td>36000.0</td>\n",
              "      <td>15200.0</td>\n",
              "      <td>37800.0</td>\n",
              "      <td>2000.0</td>\n",
              "      <td>9600.0</td>\n",
              "      <td>800.0</td>\n",
              "      <td>NaN</td>\n",
              "      <td>NaN</td>\n",
              "      <td>NaN</td>\n",
              "      <td>3520.0</td>\n",
              "      <td>4000.0</td>\n",
              "      <td>4480.0</td>\n",
              "      <td>NaN</td>\n",
              "      <td>NaN</td>\n",
              "      <td>NaN</td>\n",
              "      <td>NaN</td>\n",
              "      <td>7200.0</td>\n",
              "      <td>NaN</td>\n",
              "      <td>8000.0</td>\n",
              "      <td>NaN</td>\n",
              "      <td>5200.0</td>\n",
              "      <td>11200.0</td>\n",
              "      <td>NaN</td>\n",
              "      <td>NaN</td>\n",
              "      <td>NaN</td>\n",
              "      <td>NaN</td>\n",
              "      <td>NaN</td>\n",
              "      <td>8400.0</td>\n",
              "      <td>NaN</td>\n",
              "      <td>NaN</td>\n",
              "      <td>NaN</td>\n",
              "      <td>NaN</td>\n",
              "      <td>NaN</td>\n",
              "      <td>...</td>\n",
              "      <td>1100.0</td>\n",
              "      <td>NaN</td>\n",
              "      <td>NaN</td>\n",
              "      <td>12600.0</td>\n",
              "      <td>NaN</td>\n",
              "      <td>NaN</td>\n",
              "      <td>NaN</td>\n",
              "      <td>16000.0</td>\n",
              "      <td>2400.0</td>\n",
              "      <td>8000.0</td>\n",
              "      <td>NaN</td>\n",
              "      <td>NaN</td>\n",
              "      <td>1280.0</td>\n",
              "      <td>13200.0</td>\n",
              "      <td>NaN</td>\n",
              "      <td>NaN</td>\n",
              "      <td>NaN</td>\n",
              "      <td>NaN</td>\n",
              "      <td>NaN</td>\n",
              "      <td>NaN</td>\n",
              "      <td>NaN</td>\n",
              "      <td>6400.0</td>\n",
              "      <td>14000.0</td>\n",
              "      <td>5600.0</td>\n",
              "      <td>11000.0</td>\n",
              "      <td>NaN</td>\n",
              "      <td>NaN</td>\n",
              "      <td>NaN</td>\n",
              "      <td>NaN</td>\n",
              "      <td>NaN</td>\n",
              "      <td>NaN</td>\n",
              "      <td>10000.0</td>\n",
              "      <td>NaN</td>\n",
              "      <td>1480.0</td>\n",
              "      <td>NaN</td>\n",
              "      <td>1200.0</td>\n",
              "      <td>NaN</td>\n",
              "      <td>NaN</td>\n",
              "      <td>NaN</td>\n",
              "      <td>3000.0</td>\n",
              "    </tr>\n",
              "    <tr>\n",
              "      <th>47</th>\n",
              "      <td>6400.0</td>\n",
              "      <td>13600.0</td>\n",
              "      <td>11500.0</td>\n",
              "      <td>24200.0</td>\n",
              "      <td>2400.0</td>\n",
              "      <td>6000.0</td>\n",
              "      <td>NaN</td>\n",
              "      <td>NaN</td>\n",
              "      <td>3200.0</td>\n",
              "      <td>2800.0</td>\n",
              "      <td>1500.0</td>\n",
              "      <td>9600.0</td>\n",
              "      <td>4200.0</td>\n",
              "      <td>NaN</td>\n",
              "      <td>8000.0</td>\n",
              "      <td>28300.0</td>\n",
              "      <td>5200.0</td>\n",
              "      <td>42400.0</td>\n",
              "      <td>50400.0</td>\n",
              "      <td>NaN</td>\n",
              "      <td>NaN</td>\n",
              "      <td>12240.0</td>\n",
              "      <td>NaN</td>\n",
              "      <td>4500.0</td>\n",
              "      <td>9400.0</td>\n",
              "      <td>29000.0</td>\n",
              "      <td>3600.0</td>\n",
              "      <td>10400.0</td>\n",
              "      <td>39200.0</td>\n",
              "      <td>11760.0</td>\n",
              "      <td>4480.0</td>\n",
              "      <td>NaN</td>\n",
              "      <td>7400.0</td>\n",
              "      <td>800.0</td>\n",
              "      <td>1680.0</td>\n",
              "      <td>5600.0</td>\n",
              "      <td>19200.0</td>\n",
              "      <td>10000.0</td>\n",
              "      <td>2800.0</td>\n",
              "      <td>NaN</td>\n",
              "      <td>...</td>\n",
              "      <td>4400.0</td>\n",
              "      <td>12800.0</td>\n",
              "      <td>NaN</td>\n",
              "      <td>35910.0</td>\n",
              "      <td>NaN</td>\n",
              "      <td>6720.0</td>\n",
              "      <td>NaN</td>\n",
              "      <td>NaN</td>\n",
              "      <td>19200.0</td>\n",
              "      <td>73600.0</td>\n",
              "      <td>NaN</td>\n",
              "      <td>15000.0</td>\n",
              "      <td>1280.0</td>\n",
              "      <td>5280.0</td>\n",
              "      <td>NaN</td>\n",
              "      <td>2400.0</td>\n",
              "      <td>1600.0</td>\n",
              "      <td>1600.0</td>\n",
              "      <td>NaN</td>\n",
              "      <td>NaN</td>\n",
              "      <td>NaN</td>\n",
              "      <td>1600.0</td>\n",
              "      <td>11200.0</td>\n",
              "      <td>7000.0</td>\n",
              "      <td>97900.0</td>\n",
              "      <td>2200.0</td>\n",
              "      <td>4200.0</td>\n",
              "      <td>NaN</td>\n",
              "      <td>NaN</td>\n",
              "      <td>3200.0</td>\n",
              "      <td>5200.0</td>\n",
              "      <td>NaN</td>\n",
              "      <td>NaN</td>\n",
              "      <td>2960.0</td>\n",
              "      <td>7680.0</td>\n",
              "      <td>9000.0</td>\n",
              "      <td>10400.0</td>\n",
              "      <td>7200.0</td>\n",
              "      <td>NaN</td>\n",
              "      <td>25800.0</td>\n",
              "    </tr>\n",
              "    <tr>\n",
              "      <th>48</th>\n",
              "      <td>640.0</td>\n",
              "      <td>NaN</td>\n",
              "      <td>NaN</td>\n",
              "      <td>39600.0</td>\n",
              "      <td>1200.0</td>\n",
              "      <td>6000.0</td>\n",
              "      <td>NaN</td>\n",
              "      <td>NaN</td>\n",
              "      <td>NaN</td>\n",
              "      <td>NaN</td>\n",
              "      <td>2000.0</td>\n",
              "      <td>6400.0</td>\n",
              "      <td>8400.0</td>\n",
              "      <td>NaN</td>\n",
              "      <td>NaN</td>\n",
              "      <td>27520.0</td>\n",
              "      <td>7800.0</td>\n",
              "      <td>10400.0</td>\n",
              "      <td>41920.0</td>\n",
              "      <td>800.0</td>\n",
              "      <td>NaN</td>\n",
              "      <td>11800.0</td>\n",
              "      <td>NaN</td>\n",
              "      <td>NaN</td>\n",
              "      <td>16920.0</td>\n",
              "      <td>21000.0</td>\n",
              "      <td>9600.0</td>\n",
              "      <td>5200.0</td>\n",
              "      <td>29400.0</td>\n",
              "      <td>NaN</td>\n",
              "      <td>1520.0</td>\n",
              "      <td>NaN</td>\n",
              "      <td>1250.0</td>\n",
              "      <td>NaN</td>\n",
              "      <td>1450.0</td>\n",
              "      <td>3500.0</td>\n",
              "      <td>9600.0</td>\n",
              "      <td>13200.0</td>\n",
              "      <td>6800.0</td>\n",
              "      <td>NaN</td>\n",
              "      <td>...</td>\n",
              "      <td>4400.0</td>\n",
              "      <td>6400.0</td>\n",
              "      <td>NaN</td>\n",
              "      <td>40320.0</td>\n",
              "      <td>NaN</td>\n",
              "      <td>2240.0</td>\n",
              "      <td>NaN</td>\n",
              "      <td>3800.0</td>\n",
              "      <td>19200.0</td>\n",
              "      <td>79800.0</td>\n",
              "      <td>NaN</td>\n",
              "      <td>NaN</td>\n",
              "      <td>2560.0</td>\n",
              "      <td>3500.0</td>\n",
              "      <td>NaN</td>\n",
              "      <td>22800.0</td>\n",
              "      <td>1600.0</td>\n",
              "      <td>NaN</td>\n",
              "      <td>NaN</td>\n",
              "      <td>800.0</td>\n",
              "      <td>NaN</td>\n",
              "      <td>1600.0</td>\n",
              "      <td>5600.0</td>\n",
              "      <td>NaN</td>\n",
              "      <td>100100.0</td>\n",
              "      <td>4400.0</td>\n",
              "      <td>NaN</td>\n",
              "      <td>NaN</td>\n",
              "      <td>NaN</td>\n",
              "      <td>NaN</td>\n",
              "      <td>NaN</td>\n",
              "      <td>3200.0</td>\n",
              "      <td>NaN</td>\n",
              "      <td>1800.0</td>\n",
              "      <td>NaN</td>\n",
              "      <td>4500.0</td>\n",
              "      <td>NaN</td>\n",
              "      <td>NaN</td>\n",
              "      <td>NaN</td>\n",
              "      <td>27200.0</td>\n",
              "    </tr>\n",
              "    <tr>\n",
              "      <th>49</th>\n",
              "      <td>NaN</td>\n",
              "      <td>NaN</td>\n",
              "      <td>26400.0</td>\n",
              "      <td>18000.0</td>\n",
              "      <td>1800.0</td>\n",
              "      <td>NaN</td>\n",
              "      <td>NaN</td>\n",
              "      <td>NaN</td>\n",
              "      <td>NaN</td>\n",
              "      <td>NaN</td>\n",
              "      <td>2500.0</td>\n",
              "      <td>9300.0</td>\n",
              "      <td>5600.0</td>\n",
              "      <td>NaN</td>\n",
              "      <td>NaN</td>\n",
              "      <td>20640.0</td>\n",
              "      <td>4000.0</td>\n",
              "      <td>3600.0</td>\n",
              "      <td>34800.0</td>\n",
              "      <td>2000.0</td>\n",
              "      <td>NaN</td>\n",
              "      <td>7200.0</td>\n",
              "      <td>NaN</td>\n",
              "      <td>NaN</td>\n",
              "      <td>3000.0</td>\n",
              "      <td>22000.0</td>\n",
              "      <td>4800.0</td>\n",
              "      <td>NaN</td>\n",
              "      <td>14000.0</td>\n",
              "      <td>NaN</td>\n",
              "      <td>400.0</td>\n",
              "      <td>NaN</td>\n",
              "      <td>1250.0</td>\n",
              "      <td>NaN</td>\n",
              "      <td>5950.0</td>\n",
              "      <td>NaN</td>\n",
              "      <td>NaN</td>\n",
              "      <td>4800.0</td>\n",
              "      <td>NaN</td>\n",
              "      <td>NaN</td>\n",
              "      <td>...</td>\n",
              "      <td>10500.0</td>\n",
              "      <td>7500.0</td>\n",
              "      <td>NaN</td>\n",
              "      <td>29400.0</td>\n",
              "      <td>NaN</td>\n",
              "      <td>3200.0</td>\n",
              "      <td>NaN</td>\n",
              "      <td>16000.0</td>\n",
              "      <td>9600.0</td>\n",
              "      <td>34500.0</td>\n",
              "      <td>NaN</td>\n",
              "      <td>NaN</td>\n",
              "      <td>NaN</td>\n",
              "      <td>7000.0</td>\n",
              "      <td>NaN</td>\n",
              "      <td>4800.0</td>\n",
              "      <td>NaN</td>\n",
              "      <td>NaN</td>\n",
              "      <td>NaN</td>\n",
              "      <td>NaN</td>\n",
              "      <td>NaN</td>\n",
              "      <td>NaN</td>\n",
              "      <td>12000.0</td>\n",
              "      <td>3600.0</td>\n",
              "      <td>94600.0</td>\n",
              "      <td>2200.0</td>\n",
              "      <td>1400.0</td>\n",
              "      <td>NaN</td>\n",
              "      <td>NaN</td>\n",
              "      <td>4000.0</td>\n",
              "      <td>NaN</td>\n",
              "      <td>NaN</td>\n",
              "      <td>NaN</td>\n",
              "      <td>1350.0</td>\n",
              "      <td>NaN</td>\n",
              "      <td>6000.0</td>\n",
              "      <td>NaN</td>\n",
              "      <td>NaN</td>\n",
              "      <td>NaN</td>\n",
              "      <td>40000.0</td>\n",
              "    </tr>\n",
              "  </tbody>\n",
              "</table>\n",
              "<p>5 rows × 121 columns</p>\n",
              "</div>"
            ],
            "text/plain": [
              "Nombre_producto  Acelga / Libra  ...  Zucchini Verde / Libra\n",
              "Año  Semana                      ...                        \n",
              "2016 44                     NaN  ...                     NaN\n",
              "     46                     NaN  ...                  3000.0\n",
              "     47                  6400.0  ...                 25800.0\n",
              "     48                   640.0  ...                 27200.0\n",
              "     49                     NaN  ...                 40000.0\n",
              "\n",
              "[5 rows x 121 columns]"
            ]
          },
          "metadata": {
            "tags": []
          },
          "execution_count": 17
        }
      ]
    },
    {
      "cell_type": "markdown",
      "metadata": {
        "id": "iYRSesc5GuWe"
      },
      "source": [
        "Se evidencia un gran número de valores faltantes. En este caso se asumirá que significan que en esa semana no hubo un pedido de ese producto en particular. \n"
      ]
    },
    {
      "cell_type": "markdown",
      "metadata": {
        "id": "I6pgph2dFqLA"
      },
      "source": [
        "## **3. Identificación de productos estratégicos**\n",
        "\n",
        "Para el modelo de predicción de la demanda se tomarán únicamente los productos más estratégicos para la compañía. Que un producto sea estratégico o no será determinado con base en el criterio de número de semanas mínimas con pedidos o, de manera equivalente, el número máximo de valores faltantes en la base de \n",
        "datos. En este caso, se estableció un número de 20 faltantes máximos. Esto quiere decir que para que un producto sea considerado estratégico debe haber registrado pedidos en almenos 26 semanas de las 46 consideradas. \n",
        "\n",
        "Este criterio se estableció dada la participación de este segmento en el total de las ventas de la compañía. Así pues, los productos que cumplen con esta condición explican aproximadamente el 80% del total de la demanda en el periodo considerado.\n"
      ]
    },
    {
      "cell_type": "code",
      "metadata": {
        "id": "d5K7UCk673ot"
      },
      "source": [
        "#Se calcula el número de valores perdidos en cada producto.\n",
        "filtro=pd.concat([df.isna().sum(), df.sum()], join='outer', axis=1)"
      ],
      "execution_count": null,
      "outputs": []
    },
    {
      "cell_type": "code",
      "metadata": {
        "id": "Ja3j9UTICCF7"
      },
      "source": [
        "filtro.columns=['NaNs', 'Demanda']"
      ],
      "execution_count": null,
      "outputs": []
    },
    {
      "cell_type": "code",
      "metadata": {
        "id": "YSnlSE71CYjR"
      },
      "source": [
        "filtro=filtro.sort_values('NaNs', ascending=True).sort_values('Demanda', ascending=False)"
      ],
      "execution_count": null,
      "outputs": []
    },
    {
      "cell_type": "code",
      "metadata": {
        "id": "jrP3XpRiILhg",
        "outputId": "c549609c-64a8-460e-8eda-31a906482ddd",
        "colab": {
          "base_uri": "https://localhost:8080/",
          "height": 225
        }
      },
      "source": [
        "filtro.head(5)"
      ],
      "execution_count": null,
      "outputs": [
        {
          "output_type": "execute_result",
          "data": {
            "text/html": [
              "<div>\n",
              "<style scoped>\n",
              "    .dataframe tbody tr th:only-of-type {\n",
              "        vertical-align: middle;\n",
              "    }\n",
              "\n",
              "    .dataframe tbody tr th {\n",
              "        vertical-align: top;\n",
              "    }\n",
              "\n",
              "    .dataframe thead th {\n",
              "        text-align: right;\n",
              "    }\n",
              "</style>\n",
              "<table border=\"1\" class=\"dataframe\">\n",
              "  <thead>\n",
              "    <tr style=\"text-align: right;\">\n",
              "      <th></th>\n",
              "      <th>NaNs</th>\n",
              "      <th>Demanda</th>\n",
              "    </tr>\n",
              "    <tr>\n",
              "      <th>Nombre_producto</th>\n",
              "      <th></th>\n",
              "      <th></th>\n",
              "    </tr>\n",
              "  </thead>\n",
              "  <tbody>\n",
              "    <tr>\n",
              "      <th>Tomate Chonto / Libra</th>\n",
              "      <td>1</td>\n",
              "      <td>5981700.0</td>\n",
              "    </tr>\n",
              "    <tr>\n",
              "      <th>Champiñón / Libra</th>\n",
              "      <td>4</td>\n",
              "      <td>4029800.0</td>\n",
              "    </tr>\n",
              "    <tr>\n",
              "      <th>Pimentón Rojo / Libra</th>\n",
              "      <td>5</td>\n",
              "      <td>2203150.0</td>\n",
              "    </tr>\n",
              "    <tr>\n",
              "      <th>Lechuga Crespa / Unidad</th>\n",
              "      <td>6</td>\n",
              "      <td>1718400.0</td>\n",
              "    </tr>\n",
              "    <tr>\n",
              "      <th>Zucchini Verde / Libra</th>\n",
              "      <td>8</td>\n",
              "      <td>1628100.0</td>\n",
              "    </tr>\n",
              "  </tbody>\n",
              "</table>\n",
              "</div>"
            ],
            "text/plain": [
              "                         NaNs    Demanda\n",
              "Nombre_producto                         \n",
              "Tomate Chonto / Libra       1  5981700.0\n",
              "Champiñón / Libra           4  4029800.0\n",
              "Pimentón Rojo / Libra       5  2203150.0\n",
              "Lechuga Crespa / Unidad     6  1718400.0\n",
              "Zucchini Verde / Libra      8  1628100.0"
            ]
          },
          "metadata": {
            "tags": []
          },
          "execution_count": 21
        }
      ]
    },
    {
      "cell_type": "code",
      "metadata": {
        "id": "EqIL_6dsEE-_"
      },
      "source": [
        "#Se calcula el peso de cada producto en el total de la demanda de la compañía\n",
        "filtro['Importancia']=filtro['Demanda']/filtro['Demanda'].sum()"
      ],
      "execution_count": null,
      "outputs": []
    },
    {
      "cell_type": "code",
      "metadata": {
        "id": "Qv9TbW-uENly",
        "outputId": "308c68c1-5160-4940-8a5b-9682b0499c46",
        "colab": {
          "base_uri": "https://localhost:8080/",
          "height": 34
        }
      },
      "source": [
        "#Se constanta que los productos que tienen menos de dos valores faltantes, explican aproximadamente el 80% de la demanda total en el periodo considerado\n",
        "filtro[filtro['NaNs']<=20]['Importancia'].sum()"
      ],
      "execution_count": null,
      "outputs": [
        {
          "output_type": "execute_result",
          "data": {
            "text/plain": [
              "0.7959358359874431"
            ]
          },
          "metadata": {
            "tags": []
          },
          "execution_count": 23
        }
      ]
    },
    {
      "cell_type": "code",
      "metadata": {
        "id": "8iafkD2DGGN1",
        "outputId": "3e3212b5-9412-42c3-b45d-2d5d8ee6cf44",
        "colab": {
          "base_uri": "https://localhost:8080/",
          "height": 34
        }
      },
      "source": [
        "#En total, se incluirán 38 productos estatégicos en el modelo\n",
        "filtro[filtro['NaNs']<=20].shape[0]"
      ],
      "execution_count": null,
      "outputs": [
        {
          "output_type": "execute_result",
          "data": {
            "text/plain": [
              "38"
            ]
          },
          "metadata": {
            "tags": []
          },
          "execution_count": 24
        }
      ]
    },
    {
      "cell_type": "code",
      "metadata": {
        "id": "B_yyI5dEHHt7",
        "outputId": "22598e90-6f07-40d3-bc67-0564b3f76470",
        "colab": {
          "base_uri": "https://localhost:8080/",
          "height": 286
        }
      },
      "source": [
        "selecionados = filtro[filtro['NaNs']<=20].index\n",
        "selecionados"
      ],
      "execution_count": null,
      "outputs": [
        {
          "output_type": "execute_result",
          "data": {
            "text/plain": [
              "Index(['Tomate Chonto / Libra', 'Champiñón / Libra', 'Pimentón Rojo / Libra',\n",
              "       'Lechuga Crespa / Unidad', 'Zucchini Verde / Libra',\n",
              "       'Cebolla Cabezona Roja / Libra', 'Pepino Cohombro / Libra',\n",
              "       'Cebolla Cabezona Blanca / Libra', 'Zanahoria / Libra',\n",
              "       'Limón Tahití / Libra', 'Berenjena / Libra',\n",
              "       'Perejil Crespo / 100 gramos', 'Tomate Larga Vida / Libra',\n",
              "       'Banano Criollo / Libra', 'Aguacate Papelillo / Libra',\n",
              "       'Fresa Pareja / Libra', 'Rúgula / Libra', 'Piña Golden Sweet / Unidad',\n",
              "       'Perejil Liso / 100 gramos', 'Mora Castilla / Libra',\n",
              "       'Mango Tommy Atkins / Libra', 'Brócoli / Libra', 'Papa Criolla / Libra',\n",
              "       'Cebolla Larga / Libra', 'Papaya Melona / Unidad', 'Espinaca / Libra',\n",
              "       'Melón / Unidad', 'Papa Sabanera / Libra', 'Naranja Sweety / Libra',\n",
              "       'Habichuela / Libra', 'Ahuyama / Libra', 'Apio / Libra', 'Lulo / Libra',\n",
              "       'Yerbabuena / 100 gramos', 'Papa Pastusa / Libra', 'Maracuyá / Libra',\n",
              "       'Cilantro / 100 gramos', 'Arracacha / Libra'],\n",
              "      dtype='object', name='Nombre_producto')"
            ]
          },
          "metadata": {
            "tags": []
          },
          "execution_count": 25
        }
      ]
    },
    {
      "cell_type": "code",
      "metadata": {
        "id": "XhqRwbfNJVeW"
      },
      "source": [
        "#Se reemplazarán los valores faltantes con ceros\n",
        "df.fillna(0 , inplace=True) "
      ],
      "execution_count": null,
      "outputs": []
    },
    {
      "cell_type": "code",
      "metadata": {
        "id": "4ASmbJPsK5Xh"
      },
      "source": [
        "#Se filtran los datos con los productos seleccionados\n",
        "productos_selec   = df.loc[: ,  selecionados]"
      ],
      "execution_count": null,
      "outputs": []
    },
    {
      "cell_type": "code",
      "metadata": {
        "id": "heCkhm1_VASH",
        "outputId": "2962dcc0-1796-49ee-ffc1-11a3efffaf5c",
        "colab": {
          "base_uri": "https://localhost:8080/",
          "height": 34
        }
      },
      "source": [
        "productos_selec.shape"
      ],
      "execution_count": null,
      "outputs": [
        {
          "output_type": "execute_result",
          "data": {
            "text/plain": [
              "(46, 38)"
            ]
          },
          "metadata": {
            "tags": []
          },
          "execution_count": 28
        }
      ]
    },
    {
      "cell_type": "markdown",
      "metadata": {
        "id": "gS8HgGKNHIM_"
      },
      "source": [
        "## **4. Modelos de predicción de la demanda**\n",
        "\n",
        "Se estimarán diferentes modelos de redes neuronales para la demanda semanal de cada uno de los productos estratégicos seleccionados. \n",
        "\n",
        "Referencias utilizadas: https://machinelearningmastery.com/how-to-develop-lstm-models-for-time-series-forecasting/\n",
        "\n"
      ]
    },
    {
      "cell_type": "markdown",
      "metadata": {
        "id": "EcH-vvmoKj66"
      },
      "source": [
        "### **4.1. Modelo LSTM**\n",
        "\n"
      ]
    },
    {
      "cell_type": "code",
      "metadata": {
        "id": "XFmgqse4KBYY"
      },
      "source": [
        "import keras\n",
        "from keras import layers\n",
        "from keras.models import load_model, Sequential\n",
        "from keras.layers import LSTM\n",
        "from keras.layers import  Dense\n",
        "import h5py\n",
        "import matplotlib.pyplot as plt\n",
        "from prettytable import PrettyTable\n",
        "from sklearn.model_selection import train_test_split\n",
        "from sklearn.metrics import confusion_matrix \n",
        "from sklearn.preprocessing import MinMaxScaler\n",
        "import math\n",
        "from sklearn.metrics import mean_squared_error\n",
        "import statistics\n",
        "from keras.layers import Bidirectional"
      ],
      "execution_count": null,
      "outputs": []
    },
    {
      "cell_type": "code",
      "metadata": {
        "id": "tJBrAEQbKIeI"
      },
      "source": [
        "#La función split_sequences() dividirá parelalamente la serie de tiempo univariada en múltiples muestras donde cada muestra tiene un número específico de pasos (n_steps) en una fila\n",
        "# y el output es un solo paso en el tiempo. En este caso los pasos se miden en semanas. \n",
        "\n",
        "from numpy import hstack\n",
        "# split a multivariate sequence into samples\n",
        "def split_sequences(sequences, n_steps):\n",
        "\tX, y = list(), list()\n",
        "\tfor i in range(len(sequences)):\n",
        "\t\t# find the end of this pattern\n",
        "\t\tend_ix = i + n_steps\n",
        "\t\t# check if we are beyond the dataset\n",
        "\t\tif end_ix > len(sequences)-1:\n",
        "\t\t\tbreak\n",
        "\t\t# gather input and output parts of the pattern\n",
        "\t\tseq_x, seq_y = sequences[i:end_ix, :], sequences[end_ix, :]\n",
        "\t\tX.append(seq_x)\n",
        "\t\ty.append(seq_y)\n",
        "\treturn np.array(X), np.array(y)"
      ],
      "execution_count": null,
      "outputs": []
    },
    {
      "cell_type": "code",
      "metadata": {
        "id": "1cqyGZ1vMUaC",
        "outputId": "1010435e-80e4-452a-9ecf-0578d7f1969a",
        "colab": {
          "base_uri": "https://localhost:8080/",
          "height": 154
        }
      },
      "source": [
        "np.random.seed(3)\n",
        "#Se escalarán los datos y se dividirán entre entrenamineto y prueba, utilizando la función anterior.\n",
        "from sklearn.preprocessing import MinMaxScaler\n",
        "import math\n",
        "from sklearn.metrics import mean_squared_error\n",
        "import statistics\n",
        "from keras.layers import Bidirectional\n",
        "scaler = MinMaxScaler(feature_range=(0, 1))\n",
        "scaler.fit_transform(productos_selec)\n",
        "dataset = scaler.fit_transform(productos_selec)\n",
        "# split into train and test sets\n",
        "train_size = int(len(dataset) * 0.80)\n",
        "test_size = len(dataset) - train_size\n",
        "train, test = dataset[0:train_size,:], dataset[train_size:len(dataset),:] \n",
        "#Tener las muestras originales \n",
        "look_back = 1\n",
        "trainX, trainY = split_sequences(train, look_back)\n",
        "testX, testY = split_sequences(test, look_back)\n",
        "\n",
        "# Se crea y se ajusta un modelo de redes LSTM\n",
        "model = Sequential()\n",
        "model.add(Bidirectional(LSTM(1000, return_sequences=True ,  input_shape=(1, 38))))\n",
        "model.add(Bidirectional(LSTM(500, return_sequences=True,activation='relu')))\n",
        "model.add(Bidirectional(LSTM(100,activation='relu')))\n",
        "model.add(Dense(38))\n",
        "model.compile(loss='mean_squared_error', optimizer='adam')\n",
        "model.fit(trainX, trainY, epochs=200, batch_size=1, verbose=0)\n",
        "\n",
        "#Se hace las predicciones\n",
        "trainPredict = model.predict(trainX)\n",
        "testPredict = model.predict(testX)\n",
        "#y se invierten\n",
        "trainPredict =  scaler.inverse_transform(trainPredict)\n",
        "testPredict = scaler.inverse_transform(testPredict)\n",
        "\n",
        "trainY =  scaler.inverse_transform(trainY)\n",
        "testY = scaler.inverse_transform(testY)\n",
        "\n",
        "#Se construye un vector con los RMSE para cada producto. \n",
        "mse_prod = []\n",
        "for i  in  range(0 ,  38):\n",
        "  mse_prod.append(math.sqrt(mean_squared_error(testY[:,i], testPredict[:,i])))\n",
        "\n",
        "print(mse_prod)\n",
        "error_modelo = statistics.mean(mse_prod)"
      ],
      "execution_count": null,
      "outputs": [
        {
          "output_type": "stream",
          "text": [
            "WARNING:tensorflow:Layer lstm_1 will not use cuDNN kernel since it doesn't meet the cuDNN kernel criteria. It will use generic GPU kernel as fallback when running on GPU\n",
            "WARNING:tensorflow:Layer lstm_1 will not use cuDNN kernel since it doesn't meet the cuDNN kernel criteria. It will use generic GPU kernel as fallback when running on GPU\n",
            "WARNING:tensorflow:Layer lstm_1 will not use cuDNN kernel since it doesn't meet the cuDNN kernel criteria. It will use generic GPU kernel as fallback when running on GPU\n",
            "WARNING:tensorflow:Layer lstm_2 will not use cuDNN kernel since it doesn't meet the cuDNN kernel criteria. It will use generic GPU kernel as fallback when running on GPU\n",
            "WARNING:tensorflow:Layer lstm_2 will not use cuDNN kernel since it doesn't meet the cuDNN kernel criteria. It will use generic GPU kernel as fallback when running on GPU\n",
            "WARNING:tensorflow:Layer lstm_2 will not use cuDNN kernel since it doesn't meet the cuDNN kernel criteria. It will use generic GPU kernel as fallback when running on GPU\n",
            "[61607.18516599804, 84310.96084362909, 67218.93417102964, 24265.4282843417, 17773.12438023854, 34921.08905534301, 12810.97511606274, 128640.37409161126, 85975.05966034823, 15483.787508970452, 13826.575111891485, 8796.133614277769, 34358.59013402904, 10267.144861438768, 17416.45379145479, 8533.888241994784, 10734.79103294546, 8913.103668107395, 8422.389316987616, 5844.579493330568, 10442.32527770387, 8946.913509788823, 7252.965971646385, 11619.729094891516, 11891.192773669927, 12505.759175129375, 3579.1816173872585, 4506.222851260159, 6324.033394898531, 2806.585101410819, 10767.887430103738, 5243.343846201106, 3149.2116568915258, 4641.144888470759, 4797.092689624255, 3715.1514082918147, 3264.7197748997737, 3826.4024875475197]\n"
          ],
          "name": "stdout"
        }
      ]
    },
    {
      "cell_type": "code",
      "metadata": {
        "id": "cBwuPfgPRR-9",
        "outputId": "e77eb9a3-ed1f-4b9d-c49d-71edda0402cf",
        "colab": {
          "base_uri": "https://localhost:8080/",
          "height": 34
        }
      },
      "source": [
        "print(\"El RMSE promedio del modelo es de: \"+str(error_modelo))"
      ],
      "execution_count": null,
      "outputs": [
        {
          "output_type": "stream",
          "text": [
            "El RMSE promedio del modelo es de: 20510.537644574935\n"
          ],
          "name": "stdout"
        }
      ]
    },
    {
      "cell_type": "markdown",
      "metadata": {
        "id": "yROA_CMtGrO8"
      },
      "source": [
        "### **4.2 Modelo de Redes Recurrentes Simples**\n",
        "\n"
      ]
    },
    {
      "cell_type": "code",
      "metadata": {
        "id": "JMYxeRdBSaok"
      },
      "source": [
        "#La función split_sequences() dividirá parelalamente la serie de tiempo univariada en múltiples muestras donde cada muestra tiene un número específico de pasos (n_steps) en una fila\n",
        "# y el output es un solo paso en el tiempo. En este caso los pasos se miden en semanas. \n",
        "def split_sequences(sequences, n_steps):\n",
        "    X, y = list(), list()\n",
        "    for i in range(len(sequences)):\n",
        "        end_ix = i + n_steps\n",
        "        if end_ix > len(sequences)-1:\n",
        "            break\n",
        "        seq_x, seq_y = sequences[i:end_ix, :], sequences[end_ix, :]\n",
        "        X.append(seq_x)\n",
        "        y.append(seq_y)\n",
        "    return np.array(X), np.array(y)"
      ],
      "execution_count": null,
      "outputs": []
    },
    {
      "cell_type": "code",
      "metadata": {
        "id": "fedicQ-tSd9L"
      },
      "source": [
        "#Se establecen los tamaños de la muestra de train y de test\n",
        "train_size=int(np.ceil(productos_selec.shape[0]*0.8))\n",
        "test_size=productos_selec.shape[0]-train_size\n",
        "\n",
        "#Se divide la muestra entre entrenamiento y prueba\n",
        "n_steps=4\n",
        "n_features=38\n",
        "X_train, y_train=split_sequences(productos_selec[:train_size].values, n_steps)"
      ],
      "execution_count": null,
      "outputs": []
    },
    {
      "cell_type": "code",
      "metadata": {
        "id": "SCEoxt1LTmka",
        "outputId": "18c084de-e9b3-4cc7-adf0-2520aae97571",
        "colab": {
          "base_uri": "https://localhost:8080/",
          "height": 34
        }
      },
      "source": [
        "np.random.seed(3)\n",
        "\n",
        "from tensorflow.keras.layers import LSTM\n",
        "from keras.models import Sequential\n",
        "from keras.layers import Dense, SimpleRNN\n",
        "from keras.callbacks import EarlyStopping\n",
        "\n",
        "# Se define el modelo\n",
        "model = Sequential()\n",
        "model.add(SimpleRNN(units=500, input_shape=(n_steps, n_features), activation=\"relu\"))\n",
        "model.add(Dense(500, activation='relu'))\n",
        "model.add(Dense(700, activation='relu'))\n",
        "model.add(Dense(400, activation='relu'))\n",
        "model.add(Dense(n_features))\n",
        "model.compile(optimizer='adam', loss='mse')\n",
        "\n",
        "model.fit(X_train, y_train, epochs=1000, verbose=0)"
      ],
      "execution_count": null,
      "outputs": [
        {
          "output_type": "execute_result",
          "data": {
            "text/plain": [
              "<tensorflow.python.keras.callbacks.History at 0x7f5580084fd0>"
            ]
          },
          "metadata": {
            "tags": []
          },
          "execution_count": 37
        }
      ]
    },
    {
      "cell_type": "code",
      "metadata": {
        "id": "lnaLdBdaWoJB"
      },
      "source": [
        "y_test=productos_selec[train_size:].values\n",
        "y_pred=np.zeros(shape=y_test.shape)\n",
        "for i in range(test_size):\n",
        "    # demonstrate prediction\n",
        "    iterador=train_size+i\n",
        "    x_input = productos_selec[train_size-n_steps+i:train_size-n_steps+4+i].values\n",
        "    x_input = x_input.reshape((1, n_steps, n_features))\n",
        "    yhat = model.predict(x_input, verbose=0)\n",
        "    #y_pred.append(yhat)\n",
        "    y_pred[i]=yhat"
      ],
      "execution_count": null,
      "outputs": []
    },
    {
      "cell_type": "code",
      "metadata": {
        "id": "HRpXHMGtYq6P",
        "outputId": "6e2e7eab-10ad-4f19-d516-0668a41c1970",
        "colab": {
          "base_uri": "https://localhost:8080/",
          "height": 54
        }
      },
      "source": [
        "mse_prod_RNR = []\n",
        "for i  in  range(0 ,  38):\n",
        "  mse_prod_RNR.append(math.sqrt(mean_squared_error(y_test[:,i], y_pred[:,i])))\n",
        "\n",
        "print(mse_prod_RNR)"
      ],
      "execution_count": null,
      "outputs": [
        {
          "output_type": "stream",
          "text": [
            "[64142.25722206486, 67957.39439304352, 73742.55128336184, 30682.83210836688, 19422.383194758495, 23671.438170065318, 7456.409504276534, 133473.83214337777, 70642.91021003234, 14994.485659216563, 19436.056443117293, 6845.671268220393, 34853.0151094889, 16722.67135983391, 15891.93256089667, 8774.711800306653, 31417.990484792823, 9988.63435516606, 2645.103972841247, 6573.007424309455, 6069.699181107501, 9804.03080807621, 8617.38953068371, 13396.36534769633, 16179.103885879984, 13122.367173050412, 3201.0282107932053, 2824.7455806948296, 3992.5096623091513, 3521.8495750405677, 13273.093831367169, 5063.099304491986, 2871.6538868124676, 6118.514120704264, 4651.803087566845, 3672.8634654613384, 4335.7679877338815, 3623.7791431846626]\n"
          ],
          "name": "stdout"
        }
      ]
    },
    {
      "cell_type": "code",
      "metadata": {
        "id": "OCn-U_x42AMd"
      },
      "source": [
        "error_modelo_2=statistics.mean(mse_prod_RNR)"
      ],
      "execution_count": null,
      "outputs": []
    },
    {
      "cell_type": "code",
      "metadata": {
        "id": "yOEuahqiW02l",
        "outputId": "7a00ffd5-55bf-46b6-8de3-4f030fa338d7",
        "colab": {
          "base_uri": "https://localhost:8080/",
          "height": 34
        }
      },
      "source": [
        "print(\"El RMSE promedio del modelo es de: \"+str(error_modelo_2))"
      ],
      "execution_count": null,
      "outputs": [
        {
          "output_type": "stream",
          "text": [
            "El RMSE promedio del modelo es de: 20623.025064478737\n"
          ],
          "name": "stdout"
        }
      ]
    },
    {
      "cell_type": "markdown",
      "metadata": {
        "id": "ZG-EMTP8gEXZ"
      },
      "source": [
        "### **4.3 Modelo red convolucional LSTM**"
      ]
    },
    {
      "cell_type": "code",
      "metadata": {
        "id": "enepDZOYgJ1x",
        "outputId": "bb65a563-505d-49bd-f5ec-63f4b2befaeb",
        "colab": {
          "base_uri": "https://localhost:8080/",
          "height": 70
        }
      },
      "source": [
        "from keras.layers import Flatten\n",
        "from keras.layers import ConvLSTM2D\n",
        "\n",
        "from sklearn.preprocessing import MinMaxScaler\n",
        "import math\n",
        "from sklearn.metrics import mean_squared_error\n",
        "import statistics\n",
        "from keras.layers import Bidirectional\n",
        "from sklearn.preprocessing import MinMaxScaler\n",
        "scaler = MinMaxScaler()\n",
        "scaler.fit_transform(productos_selec)\n",
        "dataset = scaler.fit_transform(productos_selec)\n",
        "# split into train and test sets\n",
        "train_size = int(len(dataset) * 0.80)\n",
        "test_size = len(dataset) - train_size\n",
        "train, test = dataset[0:train_size,:], dataset[train_size:len(dataset),:] \n",
        "#Tener las muestras originales \n",
        "look_back = 1\n",
        "trainX, trainY = split_sequences(train, look_back)\n",
        "testX, testY = split_sequences(test, look_back)\n",
        "\n",
        "\n",
        "# choose a number of time steps\n",
        "n_steps = look_back\n",
        "\n",
        "# reshape from [samples, timesteps] into [samples, timesteps, rows, columns, features]\n",
        "n_features = 38\n",
        "n_seq = 1\n",
        "n_steps = 1\n",
        "\n",
        "trainXconv = trainX.reshape((trainX.shape[0], n_seq, 1, n_steps, n_features))\n",
        "testXconv  = testX.reshape((testX.shape[0], n_seq, 1, n_steps, n_features))\n",
        "\n",
        "\n",
        "modelconv = Sequential()\n",
        "modelconv.add(ConvLSTM2D(filters=500, kernel_size=(1,1), activation='relu', input_shape=(n_seq, 1, n_steps, n_features)))\n",
        "modelconv.add(Flatten())\n",
        "modelconv.add(Dense(38))\n",
        "modelconv.compile(optimizer='adam', loss='mean_squared_error')\n",
        "# fit model\n",
        "modelconv.fit(trainXconv, trainY, epochs=500, verbose=0)\n",
        "\n",
        "\n",
        "\n",
        "#make the predictions\n",
        "trainPredictconv = modelconv.predict(trainXconv)\n",
        "testPredictconv = modelconv.predict(testXconv)\n",
        "# invert predictions\n",
        "trainPredictconv =  scaler.inverse_transform(trainPredictconv)\n",
        "testPredictconv = scaler.inverse_transform(testPredictconv)\n",
        "\n",
        "trainY =  scaler.inverse_transform(trainY)\n",
        "testY = scaler.inverse_transform(testY)\n",
        "\n",
        "mse_prod_conv = []\n",
        "for i  in  range(0 ,  38):\n",
        "  mse_prod_conv.append(math.sqrt(mean_squared_error(testY[:,i], testPredictconv[:,i])))\n",
        "  #print( \"error \" + productos_selec.columns[i] + \" : \"  + math.sqrt(mean_squared_error(trainY[:,i], trainPredict[:,i]))\n",
        "  #print(  (math.sqrt(mean_squared_error(trainY[:,i], trainPredict[:,i])))\n",
        "print(mse_prod_conv)\n",
        "print( statistics.mean(mse_prod_conv))\n",
        "\n",
        "error_modelo_conv = statistics.mean(mse_prod_conv)"
      ],
      "execution_count": null,
      "outputs": [
        {
          "output_type": "stream",
          "text": [
            "[114795.25036016163, 84593.61443146545, 79437.27104425104, 32712.809359764113, 33393.436128169364, 43655.29671922129, 25034.341475703444, 121697.30498996825, 90310.22725081585, 48139.3314965427, 20964.563750206282, 39586.31725641039, 35473.79004131539, 24254.73368442831, 30392.14263737664, 9388.740866278014, 19875.74673447453, 13767.564481675427, 28939.901525382076, 9955.833715886136, 10709.057578341039, 18273.38031386073, 15024.157849856847, 15294.996312308162, 25586.783778680016, 13381.038683670904, 5070.721764181089, 7679.6751823913655, 11228.788407196123, 9255.291757303154, 12242.270519080634, 7156.302257656273, 5783.450515937845, 10851.120428491478, 4362.440306980306, 4411.049052886542, 3848.243196744793, 3822.8146955150446]\n",
            "28693.415803962598\n"
          ],
          "name": "stdout"
        }
      ]
    },
    {
      "cell_type": "code",
      "metadata": {
        "id": "P1gciI6Hg3nm",
        "outputId": "378dc3bd-054f-447f-9841-966a0f6b0f48",
        "colab": {
          "base_uri": "https://localhost:8080/",
          "height": 34
        }
      },
      "source": [
        "print(\"El RMSE promedio del modelo es de: \"+str(error_modelo_conv))"
      ],
      "execution_count": null,
      "outputs": [
        {
          "output_type": "stream",
          "text": [
            "El RMSE promedio del modelo es de: 28693.415803962598\n"
          ],
          "name": "stdout"
        }
      ]
    },
    {
      "cell_type": "markdown",
      "metadata": {
        "id": "TC0s_hfcuWAf"
      },
      "source": [
        "### **4.4 Redes Recurrentes Simples 2**\n",
        "\n"
      ]
    },
    {
      "cell_type": "code",
      "metadata": {
        "id": "Fj4ptx7-uiu7"
      },
      "source": [
        "def create_dataset(dataset, look_back=1):\n",
        "  dataX, dataY = [], []\n",
        "  for i in range(len(dataset)-look_back-1):\n",
        "    a = dataset[i:(i+look_back), 0]\n",
        "    dataX.append(a)\n",
        "    dataY.append(dataset[i + look_back, 0])\n",
        "  return numpy.array(dataX), numpy.array(dataY)\n",
        "# semilla aleatoria para reproducibilidad\n",
        "np.random.seed(7)\n",
        "\n",
        "scaler = MinMaxScaler(feature_range=(0, 1))\n",
        "scaler.fit_transform(productos_selec)\n",
        "dataset = scaler.fit_transform(productos_selec)\n",
        "# split into train and test sets\n",
        "train_size = int(len(dataset) * 0.80)\n",
        "test_size = len(dataset) - train_size\n",
        "train, test = dataset[0:train_size,:], dataset[train_size:len(dataset),:] \n",
        "#Tener las muestras originales \n",
        "look_back = 3\n",
        "trainX, trainY = split_sequences(train, look_back)\n",
        "testX, testY = split_sequences(test, look_back)"
      ],
      "execution_count": null,
      "outputs": []
    },
    {
      "cell_type": "code",
      "metadata": {
        "id": "7TSJmxnyuoJW",
        "outputId": "58600d7c-3f76-4f6a-93e6-18e9e5102648",
        "colab": {
          "base_uri": "https://localhost:8080/",
          "height": 286
        }
      },
      "source": [
        "from keras.layers import TimeDistributed\n",
        "from keras.layers import SimpleRNN\n",
        "# create and fit the SimpleRNN\n",
        "model = Sequential()\n",
        "\n",
        "model.add(SimpleRNN(500, return_sequences=True ,  input_shape=(3, 38)))\n",
        "model.add(SimpleRNN(100, return_sequences=True,activation='relu'))\n",
        "model.add(SimpleRNN(80,activation='relu'))\n",
        "\n",
        "model.add(Dense(38))\n",
        "model.compile(loss='mean_squared_error', optimizer='adam')\n",
        "model.fit(trainX, trainY, epochs=400, batch_size=1, verbose=0)\n",
        "model.summary()"
      ],
      "execution_count": null,
      "outputs": [
        {
          "output_type": "stream",
          "text": [
            "Model: \"sequential_4\"\n",
            "_________________________________________________________________\n",
            "Layer (type)                 Output Shape              Param #   \n",
            "=================================================================\n",
            "simple_rnn_1 (SimpleRNN)     (None, 3, 500)            269500    \n",
            "_________________________________________________________________\n",
            "simple_rnn_2 (SimpleRNN)     (None, 3, 100)            60100     \n",
            "_________________________________________________________________\n",
            "simple_rnn_3 (SimpleRNN)     (None, 80)                14480     \n",
            "_________________________________________________________________\n",
            "dense_6 (Dense)              (None, 38)                3078      \n",
            "=================================================================\n",
            "Total params: 347,158\n",
            "Trainable params: 347,158\n",
            "Non-trainable params: 0\n",
            "_________________________________________________________________\n"
          ],
          "name": "stdout"
        }
      ]
    },
    {
      "cell_type": "code",
      "metadata": {
        "id": "S0GLh0vkutoX",
        "outputId": "a5ff8bbe-dd1c-4bf9-9777-2cae31f66e7c",
        "colab": {
          "base_uri": "https://localhost:8080/",
          "height": 87
        }
      },
      "source": [
        "#make the predictions\n",
        "trainPredict = model.predict(trainX)\n",
        "testPredict = model.predict(testX)\n",
        "# invert predictions\n",
        "trainPredict =  scaler.inverse_transform(trainPredict)\n",
        "testPredict = scaler.inverse_transform(testPredict)\n",
        "\n",
        "trainY =  scaler.inverse_transform(trainY)\n",
        "testY = scaler.inverse_transform(testY)\n",
        "\n",
        "mse_prod_RNR2 = []\n",
        "for i  in  range(0 ,  38):\n",
        "  mse_prod_RNR2.append(math.sqrt(mean_squared_error(testY[:,i], testPredict[:,i])))\n",
        "\n",
        "print(mse_prod_RNR2)\n",
        "print(\"\\nMSE Promedio: \", statistics.mean(mse_prod_RNR2))"
      ],
      "execution_count": null,
      "outputs": [
        {
          "output_type": "stream",
          "text": [
            "[95639.04658609809, 160774.3381885473, 74150.87164509659, 39533.254837616754, 24498.319676843108, 51602.74896979572, 16464.913960298964, 148642.49916546926, 113292.56448652792, 11877.992868891815, 9942.43141972454, 23779.855423168698, 51217.95434673943, 23577.23524629123, 24849.66542361779, 13501.984746316979, 14509.800466046641, 9838.68862818993, 4068.7742491503295, 9521.26645888269, 14748.254428770668, 17780.3439857739, 6002.335300259193, 10834.391969869701, 2129.9794637955747, 6382.249711990972, 4455.674613680429, 2570.460515625288, 3268.568608018054, 1848.0970803532057, 15594.192837517874, 8167.90722686978, 2699.454498837172, 5321.184701299424, 6231.470457864803, 4091.74768614951, 4543.501131790272, 5838.221517476254]\n",
            "\n",
            "MSE Promedio:  27468.216908664628\n"
          ],
          "name": "stdout"
        }
      ]
    },
    {
      "cell_type": "code",
      "metadata": {
        "id": "ZrQ9w2VUyKWL"
      },
      "source": [
        " error_modelo_4=statistics.mean(mse_prod_RNR2)"
      ],
      "execution_count": null,
      "outputs": []
    },
    {
      "cell_type": "markdown",
      "metadata": {
        "id": "lU7YC35cl5Z_"
      },
      "source": [
        "## **5. Conclusiones**\n"
      ]
    },
    {
      "cell_type": "markdown",
      "metadata": {
        "id": "PMy9nKLjmRz-"
      },
      "source": [
        "En términos generales, teniendo en cuenta el RMSE el mejor modelo es el de redes neuronales LSTM.\n"
      ]
    },
    {
      "cell_type": "code",
      "metadata": {
        "id": "wuU5_Uf3nCYU",
        "outputId": "cce00dbc-db22-4609-de32-6038d91752b0",
        "colab": {
          "base_uri": "https://localhost:8080/",
          "height": 166
        }
      },
      "source": [
        "pd.DataFrame(data=[error_modelo, error_modelo_2, error_modelo_conv, error_modelo_4], index=['1-LSTM', '2-Redes Recurrentes Simples', '3-Convulacionales LSTM', '4-Redes Recurrentes Simples 2'], columns=['RMSE General'])"
      ],
      "execution_count": null,
      "outputs": [
        {
          "output_type": "execute_result",
          "data": {
            "text/html": [
              "<div>\n",
              "<style scoped>\n",
              "    .dataframe tbody tr th:only-of-type {\n",
              "        vertical-align: middle;\n",
              "    }\n",
              "\n",
              "    .dataframe tbody tr th {\n",
              "        vertical-align: top;\n",
              "    }\n",
              "\n",
              "    .dataframe thead th {\n",
              "        text-align: right;\n",
              "    }\n",
              "</style>\n",
              "<table border=\"1\" class=\"dataframe\">\n",
              "  <thead>\n",
              "    <tr style=\"text-align: right;\">\n",
              "      <th></th>\n",
              "      <th>RMSE General</th>\n",
              "    </tr>\n",
              "  </thead>\n",
              "  <tbody>\n",
              "    <tr>\n",
              "      <th>1-LSTM</th>\n",
              "      <td>20510.537645</td>\n",
              "    </tr>\n",
              "    <tr>\n",
              "      <th>2-Redes Recurrentes Simples</th>\n",
              "      <td>20623.025064</td>\n",
              "    </tr>\n",
              "    <tr>\n",
              "      <th>3-Convulacionales LSTM</th>\n",
              "      <td>28693.415804</td>\n",
              "    </tr>\n",
              "    <tr>\n",
              "      <th>4-Redes Recurrentes Simples 2</th>\n",
              "      <td>27468.216909</td>\n",
              "    </tr>\n",
              "  </tbody>\n",
              "</table>\n",
              "</div>"
            ],
            "text/plain": [
              "                               RMSE General\n",
              "1-LSTM                         20510.537645\n",
              "2-Redes Recurrentes Simples    20623.025064\n",
              "3-Convulacionales LSTM         28693.415804\n",
              "4-Redes Recurrentes Simples 2  27468.216909"
            ]
          },
          "metadata": {
            "tags": []
          },
          "execution_count": 48
        }
      ]
    },
    {
      "cell_type": "markdown",
      "metadata": {
        "id": "qyNjgMO5siMo"
      },
      "source": [
        "A nivel de producto, se encuentra lo siguiente:"
      ]
    },
    {
      "cell_type": "code",
      "metadata": {
        "id": "tD3AmfFPslh1"
      },
      "source": [
        "resultados=pd.DataFrame(data=[mse_prod, mse_prod_RNR, mse_prod_conv,mse_prod_RNR2], index=['1-LSTM', '2-Redes Recurrentes Simples', '3-Convulacionales LSTM', '4-Redes Recurrentes Simples 2'], columns=selecionados)"
      ],
      "execution_count": null,
      "outputs": []
    },
    {
      "cell_type": "code",
      "metadata": {
        "id": "5EtDWzdx3DPC",
        "outputId": "ebe6bc6b-34b9-4705-8177-d48b6c17992e",
        "colab": {
          "base_uri": "https://localhost:8080/",
          "height": 337
        }
      },
      "source": [
        "resultados"
      ],
      "execution_count": null,
      "outputs": [
        {
          "output_type": "execute_result",
          "data": {
            "text/html": [
              "<div>\n",
              "<style scoped>\n",
              "    .dataframe tbody tr th:only-of-type {\n",
              "        vertical-align: middle;\n",
              "    }\n",
              "\n",
              "    .dataframe tbody tr th {\n",
              "        vertical-align: top;\n",
              "    }\n",
              "\n",
              "    .dataframe thead th {\n",
              "        text-align: right;\n",
              "    }\n",
              "</style>\n",
              "<table border=\"1\" class=\"dataframe\">\n",
              "  <thead>\n",
              "    <tr style=\"text-align: right;\">\n",
              "      <th>Nombre_producto</th>\n",
              "      <th>Tomate Chonto / Libra</th>\n",
              "      <th>Champiñón / Libra</th>\n",
              "      <th>Pimentón Rojo / Libra</th>\n",
              "      <th>Lechuga Crespa / Unidad</th>\n",
              "      <th>Zucchini Verde / Libra</th>\n",
              "      <th>Cebolla Cabezona Roja / Libra</th>\n",
              "      <th>Pepino Cohombro / Libra</th>\n",
              "      <th>Cebolla Cabezona Blanca / Libra</th>\n",
              "      <th>Zanahoria / Libra</th>\n",
              "      <th>Limón Tahití / Libra</th>\n",
              "      <th>Berenjena / Libra</th>\n",
              "      <th>Perejil Crespo / 100 gramos</th>\n",
              "      <th>Tomate Larga Vida / Libra</th>\n",
              "      <th>Banano Criollo / Libra</th>\n",
              "      <th>Aguacate Papelillo / Libra</th>\n",
              "      <th>Fresa Pareja / Libra</th>\n",
              "      <th>Rúgula / Libra</th>\n",
              "      <th>Piña Golden Sweet / Unidad</th>\n",
              "      <th>Perejil Liso / 100 gramos</th>\n",
              "      <th>Mora Castilla / Libra</th>\n",
              "      <th>Mango Tommy Atkins / Libra</th>\n",
              "      <th>Brócoli / Libra</th>\n",
              "      <th>Papa Criolla / Libra</th>\n",
              "      <th>Cebolla Larga / Libra</th>\n",
              "      <th>Papaya Melona / Unidad</th>\n",
              "      <th>Espinaca / Libra</th>\n",
              "      <th>Melón / Unidad</th>\n",
              "      <th>Papa Sabanera / Libra</th>\n",
              "      <th>Naranja Sweety / Libra</th>\n",
              "      <th>Habichuela / Libra</th>\n",
              "      <th>Ahuyama / Libra</th>\n",
              "      <th>Apio / Libra</th>\n",
              "      <th>Lulo / Libra</th>\n",
              "      <th>Yerbabuena / 100 gramos</th>\n",
              "      <th>Papa Pastusa / Libra</th>\n",
              "      <th>Maracuyá / Libra</th>\n",
              "      <th>Cilantro / 100 gramos</th>\n",
              "      <th>Arracacha / Libra</th>\n",
              "    </tr>\n",
              "  </thead>\n",
              "  <tbody>\n",
              "    <tr>\n",
              "      <th>1-LSTM</th>\n",
              "      <td>61607.185166</td>\n",
              "      <td>84310.960844</td>\n",
              "      <td>67218.934171</td>\n",
              "      <td>24265.428284</td>\n",
              "      <td>17773.124380</td>\n",
              "      <td>34921.089055</td>\n",
              "      <td>12810.975116</td>\n",
              "      <td>128640.374092</td>\n",
              "      <td>85975.059660</td>\n",
              "      <td>15483.787509</td>\n",
              "      <td>13826.575112</td>\n",
              "      <td>8796.133614</td>\n",
              "      <td>34358.590134</td>\n",
              "      <td>10267.144861</td>\n",
              "      <td>17416.453791</td>\n",
              "      <td>8533.888242</td>\n",
              "      <td>10734.791033</td>\n",
              "      <td>8913.103668</td>\n",
              "      <td>8422.389317</td>\n",
              "      <td>5844.579493</td>\n",
              "      <td>10442.325278</td>\n",
              "      <td>8946.913510</td>\n",
              "      <td>7252.965972</td>\n",
              "      <td>11619.729095</td>\n",
              "      <td>11891.192774</td>\n",
              "      <td>12505.759175</td>\n",
              "      <td>3579.181617</td>\n",
              "      <td>4506.222851</td>\n",
              "      <td>6324.033395</td>\n",
              "      <td>2806.585101</td>\n",
              "      <td>10767.887430</td>\n",
              "      <td>5243.343846</td>\n",
              "      <td>3149.211657</td>\n",
              "      <td>4641.144888</td>\n",
              "      <td>4797.092690</td>\n",
              "      <td>3715.151408</td>\n",
              "      <td>3264.719775</td>\n",
              "      <td>3826.402488</td>\n",
              "    </tr>\n",
              "    <tr>\n",
              "      <th>2-Redes Recurrentes Simples</th>\n",
              "      <td>64142.257222</td>\n",
              "      <td>67957.394393</td>\n",
              "      <td>73742.551283</td>\n",
              "      <td>30682.832108</td>\n",
              "      <td>19422.383195</td>\n",
              "      <td>23671.438170</td>\n",
              "      <td>7456.409504</td>\n",
              "      <td>133473.832143</td>\n",
              "      <td>70642.910210</td>\n",
              "      <td>14994.485659</td>\n",
              "      <td>19436.056443</td>\n",
              "      <td>6845.671268</td>\n",
              "      <td>34853.015109</td>\n",
              "      <td>16722.671360</td>\n",
              "      <td>15891.932561</td>\n",
              "      <td>8774.711800</td>\n",
              "      <td>31417.990485</td>\n",
              "      <td>9988.634355</td>\n",
              "      <td>2645.103973</td>\n",
              "      <td>6573.007424</td>\n",
              "      <td>6069.699181</td>\n",
              "      <td>9804.030808</td>\n",
              "      <td>8617.389531</td>\n",
              "      <td>13396.365348</td>\n",
              "      <td>16179.103886</td>\n",
              "      <td>13122.367173</td>\n",
              "      <td>3201.028211</td>\n",
              "      <td>2824.745581</td>\n",
              "      <td>3992.509662</td>\n",
              "      <td>3521.849575</td>\n",
              "      <td>13273.093831</td>\n",
              "      <td>5063.099304</td>\n",
              "      <td>2871.653887</td>\n",
              "      <td>6118.514121</td>\n",
              "      <td>4651.803088</td>\n",
              "      <td>3672.863465</td>\n",
              "      <td>4335.767988</td>\n",
              "      <td>3623.779143</td>\n",
              "    </tr>\n",
              "    <tr>\n",
              "      <th>3-Convulacionales LSTM</th>\n",
              "      <td>114795.250360</td>\n",
              "      <td>84593.614431</td>\n",
              "      <td>79437.271044</td>\n",
              "      <td>32712.809360</td>\n",
              "      <td>33393.436128</td>\n",
              "      <td>43655.296719</td>\n",
              "      <td>25034.341476</td>\n",
              "      <td>121697.304990</td>\n",
              "      <td>90310.227251</td>\n",
              "      <td>48139.331497</td>\n",
              "      <td>20964.563750</td>\n",
              "      <td>39586.317256</td>\n",
              "      <td>35473.790041</td>\n",
              "      <td>24254.733684</td>\n",
              "      <td>30392.142637</td>\n",
              "      <td>9388.740866</td>\n",
              "      <td>19875.746734</td>\n",
              "      <td>13767.564482</td>\n",
              "      <td>28939.901525</td>\n",
              "      <td>9955.833716</td>\n",
              "      <td>10709.057578</td>\n",
              "      <td>18273.380314</td>\n",
              "      <td>15024.157850</td>\n",
              "      <td>15294.996312</td>\n",
              "      <td>25586.783779</td>\n",
              "      <td>13381.038684</td>\n",
              "      <td>5070.721764</td>\n",
              "      <td>7679.675182</td>\n",
              "      <td>11228.788407</td>\n",
              "      <td>9255.291757</td>\n",
              "      <td>12242.270519</td>\n",
              "      <td>7156.302258</td>\n",
              "      <td>5783.450516</td>\n",
              "      <td>10851.120428</td>\n",
              "      <td>4362.440307</td>\n",
              "      <td>4411.049053</td>\n",
              "      <td>3848.243197</td>\n",
              "      <td>3822.814696</td>\n",
              "    </tr>\n",
              "    <tr>\n",
              "      <th>4-Redes Recurrentes Simples 2</th>\n",
              "      <td>95639.046586</td>\n",
              "      <td>160774.338189</td>\n",
              "      <td>74150.871645</td>\n",
              "      <td>39533.254838</td>\n",
              "      <td>24498.319677</td>\n",
              "      <td>51602.748970</td>\n",
              "      <td>16464.913960</td>\n",
              "      <td>148642.499165</td>\n",
              "      <td>113292.564487</td>\n",
              "      <td>11877.992869</td>\n",
              "      <td>9942.431420</td>\n",
              "      <td>23779.855423</td>\n",
              "      <td>51217.954347</td>\n",
              "      <td>23577.235246</td>\n",
              "      <td>24849.665424</td>\n",
              "      <td>13501.984746</td>\n",
              "      <td>14509.800466</td>\n",
              "      <td>9838.688628</td>\n",
              "      <td>4068.774249</td>\n",
              "      <td>9521.266459</td>\n",
              "      <td>14748.254429</td>\n",
              "      <td>17780.343986</td>\n",
              "      <td>6002.335300</td>\n",
              "      <td>10834.391970</td>\n",
              "      <td>2129.979464</td>\n",
              "      <td>6382.249712</td>\n",
              "      <td>4455.674614</td>\n",
              "      <td>2570.460516</td>\n",
              "      <td>3268.568608</td>\n",
              "      <td>1848.097080</td>\n",
              "      <td>15594.192838</td>\n",
              "      <td>8167.907227</td>\n",
              "      <td>2699.454499</td>\n",
              "      <td>5321.184701</td>\n",
              "      <td>6231.470458</td>\n",
              "      <td>4091.747686</td>\n",
              "      <td>4543.501132</td>\n",
              "      <td>5838.221517</td>\n",
              "    </tr>\n",
              "  </tbody>\n",
              "</table>\n",
              "</div>"
            ],
            "text/plain": [
              "Nombre_producto                Tomate Chonto / Libra  ...  Arracacha / Libra\n",
              "1-LSTM                                  61607.185166  ...        3826.402488\n",
              "2-Redes Recurrentes Simples             64142.257222  ...        3623.779143\n",
              "3-Convulacionales LSTM                 114795.250360  ...        3822.814696\n",
              "4-Redes Recurrentes Simples 2           95639.046586  ...        5838.221517\n",
              "\n",
              "[4 rows x 38 columns]"
            ]
          },
          "metadata": {
            "tags": []
          },
          "execution_count": 50
        }
      ]
    },
    {
      "cell_type": "markdown",
      "metadata": {
        "id": "cij0BumO3IzI"
      },
      "source": [
        "Por producto, los mejores modelos estimados fueron los siguientes:\n"
      ]
    },
    {
      "cell_type": "code",
      "metadata": {
        "id": "VvvJVd9921ZU",
        "outputId": "56cdf27e-6a9d-44d7-9b2d-9054cf18cb1e",
        "colab": {
          "base_uri": "https://localhost:8080/",
          "height": 689
        }
      },
      "source": [
        "resultados.idxmin() "
      ],
      "execution_count": null,
      "outputs": [
        {
          "output_type": "execute_result",
          "data": {
            "text/plain": [
              "Nombre_producto\n",
              "Tomate Chonto / Libra                                     1-LSTM\n",
              "Champiñón / Libra                    2-Redes Recurrentes Simples\n",
              "Pimentón Rojo / Libra                                     1-LSTM\n",
              "Lechuga Crespa / Unidad                                   1-LSTM\n",
              "Zucchini Verde / Libra                                    1-LSTM\n",
              "Cebolla Cabezona Roja / Libra        2-Redes Recurrentes Simples\n",
              "Pepino Cohombro / Libra              2-Redes Recurrentes Simples\n",
              "Cebolla Cabezona Blanca / Libra           3-Convulacionales LSTM\n",
              "Zanahoria / Libra                    2-Redes Recurrentes Simples\n",
              "Limón Tahití / Libra               4-Redes Recurrentes Simples 2\n",
              "Berenjena / Libra                  4-Redes Recurrentes Simples 2\n",
              "Perejil Crespo / 100 gramos          2-Redes Recurrentes Simples\n",
              "Tomate Larga Vida / Libra                                 1-LSTM\n",
              "Banano Criollo / Libra                                    1-LSTM\n",
              "Aguacate Papelillo / Libra           2-Redes Recurrentes Simples\n",
              "Fresa Pareja / Libra                                      1-LSTM\n",
              "Rúgula / Libra                                            1-LSTM\n",
              "Piña Golden Sweet / Unidad                                1-LSTM\n",
              "Perejil Liso / 100 gramos            2-Redes Recurrentes Simples\n",
              "Mora Castilla / Libra                                     1-LSTM\n",
              "Mango Tommy Atkins / Libra           2-Redes Recurrentes Simples\n",
              "Brócoli / Libra                                           1-LSTM\n",
              "Papa Criolla / Libra               4-Redes Recurrentes Simples 2\n",
              "Cebolla Larga / Libra              4-Redes Recurrentes Simples 2\n",
              "Papaya Melona / Unidad             4-Redes Recurrentes Simples 2\n",
              "Espinaca / Libra                   4-Redes Recurrentes Simples 2\n",
              "Melón / Unidad                       2-Redes Recurrentes Simples\n",
              "Papa Sabanera / Libra              4-Redes Recurrentes Simples 2\n",
              "Naranja Sweety / Libra             4-Redes Recurrentes Simples 2\n",
              "Habichuela / Libra                 4-Redes Recurrentes Simples 2\n",
              "Ahuyama / Libra                                           1-LSTM\n",
              "Apio / Libra                         2-Redes Recurrentes Simples\n",
              "Lulo / Libra                       4-Redes Recurrentes Simples 2\n",
              "Yerbabuena / 100 gramos                                   1-LSTM\n",
              "Papa Pastusa / Libra                      3-Convulacionales LSTM\n",
              "Maracuyá / Libra                     2-Redes Recurrentes Simples\n",
              "Cilantro / 100 gramos                                     1-LSTM\n",
              "Arracacha / Libra                    2-Redes Recurrentes Simples\n",
              "dtype: object"
            ]
          },
          "metadata": {
            "tags": []
          },
          "execution_count": 51
        }
      ]
    }
  ]
}